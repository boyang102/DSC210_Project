{
  "cells": [
    {
      "cell_type": "code",
      "execution_count": 8,
      "metadata": {
        "id": "T1VrgP2-1C4M"
      },
      "outputs": [],
      "source": [
        "import torch\n",
        "import torch.nn as nn\n",
        "import torch.nn.functional as F\n",
        "import torch.utils.data\n",
        "from torch.autograd import Variable\n",
        "import numpy as np\n",
        "from matplotlib import pyplot as plt\n",
        "\n",
        "from torchsummary import summary"
      ]
    },
    {
      "cell_type": "markdown",
      "source": [
        "Fix random seed"
      ],
      "metadata": {
        "id": "K6JU0oKjYqqH"
      }
    },
    {
      "cell_type": "code",
      "source": [
        "import random\n",
        "# Set the seed for Python's built-in random module\n",
        "random_seed = 42\n",
        "random.seed(random_seed)\n",
        "\n",
        "# Set the seed for NumPy\n",
        "np.random.seed(random_seed)\n",
        "\n",
        "# Set the seed for PyTorch\n",
        "torch.manual_seed(random_seed)\n",
        "torch.cuda.manual_seed_all(random_seed)\n",
        "torch.backends.cudnn.deterministic = True\n",
        "torch.backends.cudnn.benchmark = False"
      ],
      "metadata": {
        "id": "T4SCyh49Yp3v"
      },
      "execution_count": 2,
      "outputs": []
    },
    {
      "cell_type": "markdown",
      "metadata": {
        "id": "S2Ht0iPM1C4P"
      },
      "source": [
        "### Loading Dataset"
      ]
    },
    {
      "cell_type": "code",
      "execution_count": 3,
      "metadata": {
        "colab": {
          "base_uri": "https://localhost:8080/",
          "height": 502
        },
        "id": "8VTIGBJk1C4Q",
        "outputId": "99b146cb-e905-4872-9610-fe2f43b927fc"
      },
      "outputs": [
        {
          "output_type": "stream",
          "name": "stdout",
          "text": [
            "Downloading data from https://storage.googleapis.com/tensorflow/tf-keras-datasets/mnist.npz\n",
            "11490434/11490434 [==============================] - 0s 0us/step\n",
            "Train: X=(60000, 28, 28), y=(60000,)\n",
            "Test: X=(10000, 28, 28), y=(10000,)\n"
          ]
        },
        {
          "output_type": "display_data",
          "data": {
            "text/plain": [
              "<Figure size 640x480 with 9 Axes>"
            ],
            "image/png": "[encoded data removed]"
          },
          "metadata": {}
        }
      ],
      "source": [
        "from tensorflow.keras.datasets import mnist\n",
        "\n",
        "(X_train, y_train), (X_test, y_test) = mnist.load_data()\n",
        "# print shape\n",
        "print('Train: X=%s, y=%s' % (X_train.shape, y_train.shape))\n",
        "print('Test: X=%s, y=%s' % (X_test.shape, y_test.shape))\n",
        "# plot first few images\n",
        "for i in range(9):\n",
        " plt.subplot(330 + 1 + i)\n",
        " plt.imshow(X_train[i], cmap=plt.get_cmap('gray'))\n",
        "\n",
        "plt.show()"
      ]
    },
    {
      "cell_type": "markdown",
      "metadata": {
        "id": "l4a4jtoT1C4R"
      },
      "source": [
        "### Preprocessing"
      ]
    },
    {
      "cell_type": "code",
      "execution_count": 4,
      "metadata": {
        "colab": {
          "base_uri": "https://localhost:8080/"
        },
        "id": "6yhCj6vf1C4S",
        "outputId": "198fd294-7159-45d1-ab1b-b576d1018e4a"
      },
      "outputs": [
        {
          "output_type": "stream",
          "name": "stdout",
          "text": [
            "torch.Size([60000, 1, 28, 28])\n",
            "torch.Size([10000, 1, 28, 28])\n"
          ]
        }
      ],
      "source": [
        "BATCH_SIZE = 32\n",
        "\n",
        "torch_X_train = torch.from_numpy(X_train).type(torch.LongTensor)\n",
        "torch_y_train = torch.from_numpy(y_train).type(torch.LongTensor) # data type is long\n",
        "\n",
        "# create feature and targets tensor for test set.\n",
        "torch_X_test = torch.from_numpy(X_test).type(torch.LongTensor)\n",
        "torch_y_test = torch.from_numpy(y_test).type(torch.LongTensor) # data type is long\n",
        "\n",
        "torch_X_train = torch_X_train.view(-1, 1,28,28).float()\n",
        "torch_X_test = torch_X_test.view(-1,1,28,28).float()\n",
        "print(torch_X_train.shape)\n",
        "print(torch_X_test.shape)\n",
        "\n",
        "# Pytorch train and test sets\n",
        "train = torch.utils.data.TensorDataset(torch_X_train,torch_y_train)\n",
        "test = torch.utils.data.TensorDataset(torch_X_test,torch_y_test)\n",
        "\n",
        "# data loader\n",
        "train_loader = torch.utils.data.DataLoader(train, batch_size = BATCH_SIZE, shuffle = False)\n",
        "test_loader = torch.utils.data.DataLoader(test, batch_size = BATCH_SIZE, shuffle = False)\n"
      ]
    },
    {
      "cell_type": "markdown",
      "metadata": {
        "id": "41zAlR231C4S"
      },
      "source": [
        "### Create a CNN Model"
      ]
    },
    {
      "cell_type": "code",
      "execution_count": 5,
      "metadata": {
        "id": "lPrV8Y4s1C4T"
      },
      "outputs": [],
      "source": [
        "class CNN(nn.Module):\n",
        "    def __init__(self):\n",
        "        super(CNN, self).__init__()\n",
        "        self.conv1 = nn.Conv2d(1, 32, kernel_size=5)\n",
        "        self.conv2 = nn.Conv2d(32, 32, kernel_size=5)\n",
        "        self.conv3 = nn.Conv2d(32,64, kernel_size=5)\n",
        "        self.fc1 = nn.Linear(3*3*64, 256)\n",
        "        #10 numbers\n",
        "        self.fc2 = nn.Linear(256, 10)\n",
        "\n",
        "    def forward(self, x):\n",
        "        x = self.conv1(x) #1 -> 32\n",
        "        x = F.relu(x)\n",
        "\n",
        "        x = self.conv2(x) #32 -> 32\n",
        "        x = F.max_pool2d(x,2)\n",
        "        x = F.relu(x)\n",
        "        x = F.dropout(x, p=0.5, training=self.training)\n",
        "\n",
        "        x = self.conv3(x) #32 -> 64\n",
        "        x = F.max_pool2d(x,2)\n",
        "        x = F.relu(x)\n",
        "        x = F.dropout(x, p=0.5, training=self.training)\n",
        "\n",
        "        x = x.view(-1,3*3*64 )\n",
        "        x = F.relu(self.fc1(x))\n",
        "        x = F.dropout(x, training=self.training)\n",
        "\n",
        "        x = self.fc2(x)\n",
        "\n",
        "        return F.log_softmax(x, dim=1)\n"
      ]
    },
    {
      "cell_type": "code",
      "source": [
        "# Instantiate the model\n",
        "model = CNN()\n",
        "\n",
        "# Move the model to a specific device (e.g., GPU)\n",
        "device = torch.device(\"cuda\" if torch.cuda.is_available() else \"cpu\")\n",
        "model.to(device)\n",
        "\n",
        "# Display the model summary\n",
        "summary(model, (1, 28, 28))  # Assuming input size is (1, 28, 28), adjust accordingly\n"
      ],
      "metadata": {
        "id": "Am6E7w0sQf93",
        "colab": {
          "base_uri": "https://localhost:8080/"
        },
        "outputId": "9a9bb527-f78f-4423-c5e4-869b58cff656"
      },
      "execution_count": 9,
      "outputs": [
        {
          "output_type": "stream",
          "name": "stdout",
          "text": [
            "----------------------------------------------------------------\n",
            "        Layer (type)               Output Shape         Param #\n",
            "================================================================\n",
            "            Conv2d-1           [-1, 32, 24, 24]             832\n",
            "            Conv2d-2           [-1, 32, 20, 20]          25,632\n",
            "            Conv2d-3             [-1, 64, 6, 6]          51,264\n",
            "            Linear-4                  [-1, 256]         147,712\n",
            "            Linear-5                   [-1, 10]           2,570\n",
            "================================================================\n",
            "Total params: 228,010\n",
            "Trainable params: 228,010\n",
            "Non-trainable params: 0\n",
            "----------------------------------------------------------------\n",
            "Input size (MB): 0.00\n",
            "Forward/backward pass size (MB): 0.26\n",
            "Params size (MB): 0.87\n",
            "Estimated Total Size (MB): 1.13\n",
            "----------------------------------------------------------------\n"
          ]
        }
      ]
    },
    {
      "cell_type": "markdown",
      "metadata": {
        "id": "I4EPM2hf1C4U"
      },
      "source": [
        "### Fitting model"
      ]
    },
    {
      "cell_type": "code",
      "execution_count": 10,
      "metadata": {
        "id": "Io5aFLpw1C4U"
      },
      "outputs": [],
      "source": [
        "def fit(model, optimizer, train_loader):\n",
        "    # Use GPU to train\n",
        "    device = torch.device(\"cuda\" if torch.cuda.is_available() else \"cpu\")\n",
        "    model = model.to(device)\n",
        "\n",
        "    criterion = nn.CrossEntropyLoss()\n",
        "    EPOCHS = 20\n",
        "    model.train()\n",
        "    loss_values = []\n",
        "\n",
        "    for epoch in range(EPOCHS):\n",
        "        correct = 0\n",
        "        running_loss = 0.0\n",
        "        total_samples = 0\n",
        "\n",
        "        for batch_idx, (X_batch, y_batch) in enumerate(train_loader):\n",
        "            X_batch, y_batch = X_batch.to(device), y_batch.to(device)\n",
        "\n",
        "            optimizer.zero_grad()\n",
        "            output = model(X_batch)\n",
        "\n",
        "            loss = criterion(output, y_batch)\n",
        "            loss.backward()\n",
        "            optimizer.step()\n",
        "\n",
        "            running_loss += loss.item()\n",
        "\n",
        "            # Calculate training accuracy\n",
        "            _, predicted = torch.max(output.data, 1)\n",
        "            total_samples += y_batch.size(0)\n",
        "            correct += (predicted == y_batch).sum().item()\n",
        "\n",
        "        accuracy = correct / total_samples\n",
        "        epoch_loss = running_loss / len(train_loader)\n",
        "        loss_values.append(epoch_loss)\n",
        "\n",
        "        print('[Epoch %d] Loss: %.3f, Accuracy: %.3f' % (epoch + 1, epoch_loss, accuracy))\n",
        "\n",
        "    return loss_values\n"
      ]
    },
    {
      "cell_type": "code",
      "execution_count": 47,
      "metadata": {
        "colab": {
          "base_uri": "https://localhost:8080/"
        },
        "id": "Nj3lLjLY1C4U",
        "outputId": "c564c0ba-9816-4cc3-ded7-639a920e58f0"
      },
      "outputs": [
        {
          "output_type": "stream",
          "name": "stdout",
          "text": [
            "[Epoch 1] Loss: 0.408, Accuracy: 0.874\n",
            "[Epoch 2] Loss: 0.140, Accuracy: 0.959\n",
            "[Epoch 3] Loss: 0.113, Accuracy: 0.967\n",
            "[Epoch 4] Loss: 0.099, Accuracy: 0.972\n",
            "[Epoch 5] Loss: 0.095, Accuracy: 0.973\n",
            "[Epoch 6] Loss: 0.093, Accuracy: 0.974\n",
            "[Epoch 7] Loss: 0.086, Accuracy: 0.975\n",
            "[Epoch 8] Loss: 0.085, Accuracy: 0.976\n",
            "[Epoch 9] Loss: 0.081, Accuracy: 0.977\n",
            "[Epoch 10] Loss: 0.079, Accuracy: 0.978\n",
            "[Epoch 11] Loss: 0.077, Accuracy: 0.978\n",
            "[Epoch 12] Loss: 0.076, Accuracy: 0.979\n",
            "[Epoch 13] Loss: 0.076, Accuracy: 0.979\n",
            "[Epoch 14] Loss: 0.074, Accuracy: 0.979\n",
            "[Epoch 15] Loss: 0.076, Accuracy: 0.979\n",
            "[Epoch 16] Loss: 0.073, Accuracy: 0.980\n",
            "[Epoch 17] Loss: 0.071, Accuracy: 0.980\n",
            "[Epoch 18] Loss: 0.073, Accuracy: 0.980\n",
            "[Epoch 19] Loss: 0.074, Accuracy: 0.980\n",
            "[Epoch 20] Loss: 0.071, Accuracy: 0.981\n"
          ]
        }
      ],
      "source": [
        "device = torch.device(\"cuda\" if torch.cuda.is_available() else \"cpu\")\n",
        "\n",
        "cnn_adam = CNN().to(device)\n",
        "Adam = torch.optim.Adam(cnn_adam.parameters(), lr=5e-4, betas=(0.9, 0.999))\n",
        "Adam_model = fit(cnn_adam, Adam, train_loader)"
      ]
    },
    {
      "cell_type": "markdown",
      "metadata": {
        "id": "hTWf4dn-f8Ey"
      },
      "source": [
        "Training SGD"
      ]
    },
    {
      "cell_type": "code",
      "execution_count": 31,
      "metadata": {
        "colab": {
          "base_uri": "https://localhost:8080/"
        },
        "id": "ERS3cCIwf7X5",
        "outputId": "7c009042-87da-439e-d75c-6eb4bb80ef11"
      },
      "outputs": [
        {
          "output_type": "stream",
          "name": "stdout",
          "text": [
            "[Epoch 1] Loss: 1.519, Accuracy: 0.477\n",
            "[Epoch 2] Loss: 0.634, Accuracy: 0.797\n",
            "[Epoch 3] Loss: 0.442, Accuracy: 0.861\n",
            "[Epoch 4] Loss: 0.362, Accuracy: 0.888\n",
            "[Epoch 5] Loss: 0.309, Accuracy: 0.904\n",
            "[Epoch 6] Loss: 0.273, Accuracy: 0.915\n",
            "[Epoch 7] Loss: 0.248, Accuracy: 0.924\n",
            "[Epoch 8] Loss: 0.226, Accuracy: 0.931\n",
            "[Epoch 9] Loss: 0.216, Accuracy: 0.934\n",
            "[Epoch 10] Loss: 0.202, Accuracy: 0.939\n",
            "[Epoch 11] Loss: 0.191, Accuracy: 0.942\n",
            "[Epoch 12] Loss: 0.185, Accuracy: 0.944\n",
            "[Epoch 13] Loss: 0.171, Accuracy: 0.947\n",
            "[Epoch 14] Loss: 0.168, Accuracy: 0.949\n",
            "[Epoch 15] Loss: 0.160, Accuracy: 0.951\n",
            "[Epoch 16] Loss: 0.151, Accuracy: 0.953\n",
            "[Epoch 17] Loss: 0.149, Accuracy: 0.954\n",
            "[Epoch 18] Loss: 0.138, Accuracy: 0.957\n",
            "[Epoch 19] Loss: 0.138, Accuracy: 0.958\n",
            "[Epoch 20] Loss: 0.133, Accuracy: 0.959\n"
          ]
        }
      ],
      "source": [
        "cnn_sgd = CNN().to(device)\n",
        "SGD_optimizer = torch.optim.SGD(cnn_sgd.parameters(), lr=5e-4)\n",
        "SGD_model = fit(cnn_sgd, SGD_optimizer, train_loader)"
      ]
    },
    {
      "cell_type": "markdown",
      "source": [
        "Training a couple more popular Alg to compare"
      ],
      "metadata": {
        "id": "jKHpn0NGSxnT"
      }
    },
    {
      "cell_type": "markdown",
      "source": [
        "Adagrad"
      ],
      "metadata": {
        "id": "dbzBGDJqUH8o"
      }
    },
    {
      "cell_type": "code",
      "source": [
        "cnn_Adagrad = CNN().to(device)\n",
        "Adagrad = torch.optim.Adagrad(cnn_Adagrad.parameters(), lr=5e-4)\n",
        "Adagrad_model = fit(cnn_Adagrad, Adagrad, train_loader)"
      ],
      "metadata": {
        "id": "j4gSHqRiSw8t",
        "outputId": "99d0f80c-65a7-4d13-db43-e76855adc8a0",
        "colab": {
          "base_uri": "https://localhost:8080/"
        }
      },
      "execution_count": 32,
      "outputs": [
        {
          "output_type": "stream",
          "name": "stdout",
          "text": [
            "[Epoch 1] Loss: 1.464, Accuracy: 0.513\n",
            "[Epoch 2] Loss: 0.708, Accuracy: 0.767\n",
            "[Epoch 3] Loss: 0.533, Accuracy: 0.830\n",
            "[Epoch 4] Loss: 0.451, Accuracy: 0.858\n",
            "[Epoch 5] Loss: 0.397, Accuracy: 0.874\n",
            "[Epoch 6] Loss: 0.366, Accuracy: 0.885\n",
            "[Epoch 7] Loss: 0.340, Accuracy: 0.893\n",
            "[Epoch 8] Loss: 0.321, Accuracy: 0.900\n",
            "[Epoch 9] Loss: 0.305, Accuracy: 0.904\n",
            "[Epoch 10] Loss: 0.289, Accuracy: 0.911\n",
            "[Epoch 11] Loss: 0.279, Accuracy: 0.913\n",
            "[Epoch 12] Loss: 0.263, Accuracy: 0.918\n",
            "[Epoch 13] Loss: 0.254, Accuracy: 0.921\n",
            "[Epoch 14] Loss: 0.251, Accuracy: 0.923\n",
            "[Epoch 15] Loss: 0.240, Accuracy: 0.926\n",
            "[Epoch 16] Loss: 0.230, Accuracy: 0.930\n",
            "[Epoch 17] Loss: 0.228, Accuracy: 0.930\n",
            "[Epoch 18] Loss: 0.216, Accuracy: 0.933\n",
            "[Epoch 19] Loss: 0.221, Accuracy: 0.932\n",
            "[Epoch 20] Loss: 0.212, Accuracy: 0.934\n"
          ]
        }
      ]
    },
    {
      "cell_type": "markdown",
      "source": [
        "RMSprop"
      ],
      "metadata": {
        "id": "P7VYtWJ3UKzq"
      }
    },
    {
      "cell_type": "code",
      "source": [
        "cnn_RMSprop = CNN().to(device)\n",
        "RMSprop = torch.optim.RMSprop(cnn_RMSprop.parameters(), lr=5e-4)\n",
        "RMSprop_model = fit(cnn_RMSprop, RMSprop, train_loader)"
      ],
      "metadata": {
        "id": "ElLmS0TaSxEb",
        "outputId": "d9c72914-8edf-466c-d1ab-46e5e8c40336",
        "colab": {
          "base_uri": "https://localhost:8080/"
        }
      },
      "execution_count": 33,
      "outputs": [
        {
          "output_type": "stream",
          "name": "stdout",
          "text": [
            "[Epoch 1] Loss: 0.399, Accuracy: 0.890\n",
            "[Epoch 2] Loss: 0.139, Accuracy: 0.960\n",
            "[Epoch 3] Loss: 0.113, Accuracy: 0.968\n",
            "[Epoch 4] Loss: 0.101, Accuracy: 0.971\n",
            "[Epoch 5] Loss: 0.097, Accuracy: 0.973\n",
            "[Epoch 6] Loss: 0.092, Accuracy: 0.974\n",
            "[Epoch 7] Loss: 0.089, Accuracy: 0.975\n",
            "[Epoch 8] Loss: 0.087, Accuracy: 0.977\n",
            "[Epoch 9] Loss: 0.086, Accuracy: 0.977\n",
            "[Epoch 10] Loss: 0.090, Accuracy: 0.976\n",
            "[Epoch 11] Loss: 0.086, Accuracy: 0.977\n",
            "[Epoch 12] Loss: 0.086, Accuracy: 0.978\n",
            "[Epoch 13] Loss: 0.082, Accuracy: 0.978\n",
            "[Epoch 14] Loss: 0.086, Accuracy: 0.977\n",
            "[Epoch 15] Loss: 0.084, Accuracy: 0.978\n",
            "[Epoch 16] Loss: 0.086, Accuracy: 0.978\n",
            "[Epoch 17] Loss: 0.088, Accuracy: 0.977\n",
            "[Epoch 18] Loss: 0.087, Accuracy: 0.978\n",
            "[Epoch 19] Loss: 0.085, Accuracy: 0.979\n",
            "[Epoch 20] Loss: 0.089, Accuracy: 0.978\n"
          ]
        }
      ]
    },
    {
      "cell_type": "markdown",
      "source": [
        "L-BFGS (Approximate Hessian)  \\\n",
        "will not converge as expect (BFGS does not scale well on large dataset)"
      ],
      "metadata": {
        "id": "AMIx_rnZVMPH"
      }
    },
    {
      "cell_type": "code",
      "source": [
        "class Simple_CNN(nn.Module):\n",
        "    def __init__(self):\n",
        "        super(Simple_CNN, self).__init__()\n",
        "\n",
        "        self.conv1 = nn.Conv2d(1, 32, kernel_size=5, padding=2)\n",
        "        self.pool1 = nn.MaxPool2d(kernel_size=3, stride=3)\n",
        "        self.conv2 = nn.Conv2d(32, 64, kernel_size=5)\n",
        "        self.pool2 = nn.MaxPool2d(kernel_size=2, stride=2)\n",
        "        self.flatten = nn.Flatten()\n",
        "\n",
        "        self.fc = nn.Linear(64 * 2 * 2, 10)\n",
        "\n",
        "    def forward(self, x):\n",
        "        x = self.pool1(torch.relu(self.conv1(x)))\n",
        "        x = self.pool2(torch.relu(self.conv2(x)))\n",
        "\n",
        "        x = self.flatten(x)\n",
        "        x = self.fc(x)\n",
        "\n",
        "        return F.log_softmax(x, dim=1)\n"
      ],
      "metadata": {
        "id": "NQ4937-DnTU1"
      },
      "execution_count": 12,
      "outputs": []
    },
    {
      "cell_type": "code",
      "source": [
        "\n",
        "\n",
        "# Instantiate the model\n",
        "cnn_LBFGS = Simple_CNN()\n",
        "\n",
        "# Move the model to a specific device (e.g., GPU)\n",
        "device = torch.device(\"cuda\" if torch.cuda.is_available() else \"cpu\")\n",
        "cnn_LBFGS.to(device)\n",
        "\n",
        "# Display the model summary\n",
        "summary(cnn_LBFGS, (1, 28, 28))  # Assuming input size is (1, 28, 28), adjust accordingly\n"
      ],
      "metadata": {
        "id": "rRgo7_jSqdBB",
        "outputId": "bda71ac6-93ca-404b-93ca-8f1aef88e179",
        "colab": {
          "base_uri": "https://localhost:8080/"
        }
      },
      "execution_count": 13,
      "outputs": [
        {
          "output_type": "stream",
          "name": "stdout",
          "text": [
            "----------------------------------------------------------------\n",
            "        Layer (type)               Output Shape         Param #\n",
            "================================================================\n",
            "            Conv2d-1           [-1, 32, 28, 28]             832\n",
            "         MaxPool2d-2             [-1, 32, 9, 9]               0\n",
            "            Conv2d-3             [-1, 64, 5, 5]          51,264\n",
            "         MaxPool2d-4             [-1, 64, 2, 2]               0\n",
            "           Flatten-5                  [-1, 256]               0\n",
            "            Linear-6                   [-1, 10]           2,570\n",
            "================================================================\n",
            "Total params: 54,666\n",
            "Trainable params: 54,666\n",
            "Non-trainable params: 0\n",
            "----------------------------------------------------------------\n",
            "Input size (MB): 0.00\n",
            "Forward/backward pass size (MB): 0.23\n",
            "Params size (MB): 0.21\n",
            "Estimated Total Size (MB): 0.44\n",
            "----------------------------------------------------------------\n"
          ]
        }
      ]
    },
    {
      "cell_type": "code",
      "source": [
        "cnn_LBFGS = Simple_CNN()\n",
        "cnn_LBFGS.to(device)\n",
        "LBFGS = torch.optim.LBFGS(cnn_LBFGS.parameters(),lr=0.005,max_iter=7,history_size=20,\n",
        "                          line_search_fn='strong_wolfe')\n",
        "\n",
        "#Fail:lr=0.001,max_iter=7, max_eval=25,history_size=20,line_search_fn='strong_wolfe') ~0.3 not converge\n",
        "# lr=0.01,max_iter=7, max_eval=25,history_size=20 loss oscialting\n",
        "#lr=0.0001,max_iter=7, max_eval=25,history_size=20 better, but stop converging ~0.18\n",
        "\n",
        "criterion = nn.CrossEntropyLoss()\n",
        "epochs = 20\n",
        "LBFGS_loss = []\n",
        "\n",
        "for epoch in range(epochs):\n",
        "    running_loss = 0.0\n",
        "\n",
        "    for batch_idx, (X_batch, y_batch) in enumerate(train_loader):\n",
        "      X_batch, y_batch = X_batch.to(device), y_batch.to(device)\n",
        "\n",
        "      def closure():\n",
        "        # Zero gradients\n",
        "        LBFGS.zero_grad()\n",
        "        y_pred = cnn_LBFGS(X_batch)\n",
        "        loss = criterion(y_pred, y_batch)\n",
        "        loss.backward()\n",
        "        return loss\n",
        "\n",
        "      LBFGS.step(closure)\n",
        "      loss = closure()\n",
        "      running_loss += loss.item()\n",
        "\n",
        "    epoch_loss = running_loss / len(train_loader)\n",
        "    LBFGS_loss.append(epoch_loss)\n",
        "\n",
        "    print('[Epoch %d] Loss: %.3f' % (epoch + 1, epoch_loss))"
      ],
      "metadata": {
        "id": "hyUKS2mkSxHC",
        "outputId": "de4ac340-750d-4cc9-8170-38135ed306f2",
        "colab": {
          "base_uri": "https://localhost:8080/"
        }
      },
      "execution_count": 48,
      "outputs": [
        {
          "output_type": "stream",
          "name": "stdout",
          "text": [
            "[Epoch 1] Loss: 0.317\n",
            "[Epoch 2] Loss: 0.145\n",
            "[Epoch 3] Loss: 0.122\n",
            "[Epoch 4] Loss: 0.125\n",
            "[Epoch 5] Loss: 0.112\n",
            "[Epoch 6] Loss: 0.096\n",
            "[Epoch 7] Loss: 0.091\n",
            "[Epoch 8] Loss: 0.084\n",
            "[Epoch 9] Loss: 0.090\n",
            "[Epoch 10] Loss: 0.093\n",
            "[Epoch 11] Loss: 0.095\n",
            "[Epoch 12] Loss: 0.110\n",
            "[Epoch 13] Loss: 0.087\n",
            "[Epoch 14] Loss: 0.078\n",
            "[Epoch 15] Loss: 0.074\n",
            "[Epoch 16] Loss: 0.084\n",
            "[Epoch 17] Loss: 0.093\n",
            "[Epoch 18] Loss: 0.085\n",
            "[Epoch 19] Loss: 0.082\n",
            "[Epoch 20] Loss: 0.079\n"
          ]
        }
      ]
    },
    {
      "cell_type": "markdown",
      "metadata": {
        "id": "RWJTwsi4hprD"
      },
      "source": [
        "Plot Training Loss"
      ]
    },
    {
      "cell_type": "code",
      "execution_count": 49,
      "metadata": {
        "colab": {
          "base_uri": "https://localhost:8080/",
          "height": 472
        },
        "id": "niVdUHhp1C4U",
        "outputId": "ae6afd26-8d85-4eed-f85b-ba76ad7f61c9"
      },
      "outputs": [
        {
          "output_type": "display_data",
          "data": {
            "text/plain": [
              "<Figure size 640x480 with 1 Axes>"
            ],
            "image/png": "[encoded data removed]"
          },
          "metadata": {}
        }
      ],
      "source": [
        "plt.plot(Adam_model, label='Adam')\n",
        "plt.plot(SGD_model,label='SGD')\n",
        "plt.plot(Adagrad_model,label='Adagrad')\n",
        "plt.plot(RMSprop_model,label='RMSprop')\n",
        "plt.plot(LBFGS_loss,label='L-BFGS')\n",
        "\n",
        "plt.xlabel('Epoch')\n",
        "plt.ylabel('Training Loss')\n",
        "plt.title('Training Loss over Epoches')\n",
        "plt.legend()\n",
        "plt.show()"
      ]
    },
    {
      "cell_type": "code",
      "execution_count": 35,
      "metadata": {
        "id": "YDpEh0QP6wXx"
      },
      "outputs": [],
      "source": [
        "def evaluate(model):\n",
        "  model.eval()\n",
        "  correct = 0\n",
        "\n",
        "  with torch.no_grad():\n",
        "    for test_imgs, test_labels in test_loader:\n",
        "        test_imgs, test_labels = test_imgs.to(device), test_labels.to(device)\n",
        "        test_imgs = Variable(test_imgs).float()\n",
        "        output = model(test_imgs)\n",
        "        #calculate accuracy\n",
        "        predicted = torch.max(output,1)[1]\n",
        "        correct += (predicted == test_labels).sum()\n",
        "\n",
        "    accuracy = correct / (len(test_loader.dataset))\n",
        "    print(\"Accuracy: {:.3f}%\".format(accuracy * 100))\n"
      ]
    },
    {
      "cell_type": "code",
      "execution_count": 50,
      "metadata": {
        "colab": {
          "base_uri": "https://localhost:8080/"
        },
        "id": "Iw10_BWs6x4A",
        "outputId": "81f5b93b-8de4-405e-868c-8a091ab7dfa2"
      },
      "outputs": [
        {
          "output_type": "stream",
          "name": "stdout",
          "text": [
            "Accuracy: 99.190%\n"
          ]
        }
      ],
      "source": [
        "evaluate(cnn_adam)\n"
      ]
    },
    {
      "cell_type": "code",
      "execution_count": 37,
      "metadata": {
        "colab": {
          "base_uri": "https://localhost:8080/"
        },
        "id": "cCkylVI7hZx1",
        "outputId": "6787f6cd-9084-4c85-a380-86c97bea8a00"
      },
      "outputs": [
        {
          "output_type": "stream",
          "name": "stdout",
          "text": [
            "Accuracy: 98.390%\n"
          ]
        }
      ],
      "source": [
        "evaluate(cnn_sgd)"
      ]
    },
    {
      "cell_type": "code",
      "execution_count": 38,
      "metadata": {
        "id": "eTjrh_TpjNLu",
        "outputId": "1d7fcce3-4625-4ae7-c3db-d15c571b58f8",
        "colab": {
          "base_uri": "https://localhost:8080/"
        }
      },
      "outputs": [
        {
          "output_type": "stream",
          "name": "stdout",
          "text": [
            "Accuracy: 99.090%\n"
          ]
        }
      ],
      "source": [
        "evaluate(cnn_RMSprop)"
      ]
    },
    {
      "cell_type": "code",
      "source": [
        "evaluate(cnn_Adagrad)"
      ],
      "metadata": {
        "id": "ICOQznZRf1oG",
        "outputId": "143e4a08-e853-4557-ecbc-65af5106b3e7",
        "colab": {
          "base_uri": "https://localhost:8080/"
        }
      },
      "execution_count": 39,
      "outputs": [
        {
          "output_type": "stream",
          "name": "stdout",
          "text": [
            "Accuracy: 97.420%\n"
          ]
        }
      ]
    },
    {
      "cell_type": "code",
      "source": [
        "evaluate(cnn_LBFGS)"
      ],
      "metadata": {
        "id": "KDuFMsTk15K5",
        "outputId": "1b4eff48-d3f4-4391-eb5f-e523a9ea4c89",
        "colab": {
          "base_uri": "https://localhost:8080/"
        }
      },
      "execution_count": 51,
      "outputs": [
        {
          "output_type": "stream",
          "name": "stdout",
          "text": [
            "Accuracy: 96.560%\n"
          ]
        }
      ]
    }
  ],
  "metadata": {
    "accelerator": "GPU",
    "colab": {
      "gpuType": "T4",
      "provenance": []
    },
    "kernelspec": {
      "display_name": "Python 3",
      "name": "python3"
    },
    "language_info": {
      "codemirror_mode": {
        "name": "ipython",
        "version": 3
      },
      "file_extension": ".py",
      "mimetype": "text/x-python",
      "name": "python",
      "nbconvert_exporter": "python",
      "pygments_lexer": "ipython3",
      "version": "3.11.5"
    }
  },
  "nbformat": 4,
  "nbformat_minor": 0
}