{
  "cells": [
    {
      "cell_type": "code",
      "execution_count": 1,
      "metadata": {
        "id": "T1VrgP2-1C4M"
      },
      "outputs": [],
      "source": [
        "import torch\n",
        "import torch.nn as nn\n",
        "import torch.nn.functional as F\n",
        "import torch.utils.data\n",
        "from torch.autograd import Variable\n",
        "import numpy as np\n",
        "from matplotlib import pyplot as plt"
      ]
    },
    {
      "cell_type": "markdown",
      "source": [
        "Fix random seed"
      ],
      "metadata": {
        "id": "K6JU0oKjYqqH"
      }
    },
    {
      "cell_type": "code",
      "source": [
        "import random\n",
        "# Set the seed for Python's built-in random module\n",
        "random_seed = 42\n",
        "random.seed(random_seed)\n",
        "\n",
        "# Set the seed for NumPy\n",
        "np.random.seed(random_seed)\n",
        "\n",
        "# Set the seed for PyTorch\n",
        "torch.manual_seed(random_seed)\n",
        "torch.cuda.manual_seed_all(random_seed)\n",
        "torch.backends.cudnn.deterministic = True\n",
        "torch.backends.cudnn.benchmark = False"
      ],
      "metadata": {
        "id": "T4SCyh49Yp3v"
      },
      "execution_count": 2,
      "outputs": []
    },
    {
      "cell_type": "markdown",
      "metadata": {
        "id": "S2Ht0iPM1C4P"
      },
      "source": [
        "### Loading Dataset"
      ]
    },
    {
      "cell_type": "code",
      "execution_count": 3,
      "metadata": {
        "colab": {
          "base_uri": "https://localhost:8080/",
          "height": 502
        },
        "id": "8VTIGBJk1C4Q",
        "outputId": "af8214cb-0173-4c85-ab4c-d78d14dd2de4"
      },
      "outputs": [
        {
          "output_type": "stream",
          "name": "stdout",
          "text": [
            "Downloading data from https://storage.googleapis.com/tensorflow/tf-keras-datasets/mnist.npz\n",
            "11490434/11490434 [==============================] - 0s 0us/step\n",
            "Train: X=(60000, 28, 28), y=(60000,)\n",
            "Test: X=(10000, 28, 28), y=(10000,)\n"
          ]
        },
        {
          "output_type": "display_data",
          "data": {
            "text/plain": [
              "<Figure size 640x480 with 9 Axes>"
            ],
            "image/png": "[encoded data removed]"
          },
          "metadata": {}
        }
      ],
      "source": [
        "from tensorflow.keras.datasets import mnist\n",
        "\n",
        "(X_train, y_train), (X_test, y_test) = mnist.load_data()\n",
        "# print shape\n",
        "print('Train: X=%s, y=%s' % (X_train.shape, y_train.shape))\n",
        "print('Test: X=%s, y=%s' % (X_test.shape, y_test.shape))\n",
        "# plot first few images\n",
        "for i in range(9):\n",
        " plt.subplot(330 + 1 + i)\n",
        " plt.imshow(X_train[i], cmap=plt.get_cmap('gray'))\n",
        "\n",
        "plt.show()"
      ]
    },
    {
      "cell_type": "markdown",
      "metadata": {
        "id": "l4a4jtoT1C4R"
      },
      "source": [
        "### Preprocessing"
      ]
    },
    {
      "cell_type": "code",
      "execution_count": 4,
      "metadata": {
        "colab": {
          "base_uri": "https://localhost:8080/"
        },
        "id": "6yhCj6vf1C4S",
        "outputId": "ac0be97b-368a-4fc7-a7a5-5a6a3f38f1ed"
      },
      "outputs": [
        {
          "output_type": "stream",
          "name": "stdout",
          "text": [
            "torch.Size([60000, 1, 28, 28])\n",
            "torch.Size([10000, 1, 28, 28])\n"
          ]
        }
      ],
      "source": [
        "BATCH_SIZE = 32\n",
        "\n",
        "torch_X_train = torch.from_numpy(X_train).type(torch.LongTensor)\n",
        "torch_y_train = torch.from_numpy(y_train).type(torch.LongTensor) # data type is long\n",
        "\n",
        "# create feature and targets tensor for test set.\n",
        "torch_X_test = torch.from_numpy(X_test).type(torch.LongTensor)\n",
        "torch_y_test = torch.from_numpy(y_test).type(torch.LongTensor) # data type is long\n",
        "\n",
        "torch_X_train = torch_X_train.view(-1, 1,28,28).float()\n",
        "torch_X_test = torch_X_test.view(-1,1,28,28).float()\n",
        "print(torch_X_train.shape)\n",
        "print(torch_X_test.shape)\n",
        "\n",
        "# Pytorch train and test sets\n",
        "train = torch.utils.data.TensorDataset(torch_X_train,torch_y_train)\n",
        "test = torch.utils.data.TensorDataset(torch_X_test,torch_y_test)\n",
        "\n",
        "# data loader\n",
        "train_loader = torch.utils.data.DataLoader(train, batch_size = BATCH_SIZE, shuffle = False)\n",
        "test_loader = torch.utils.data.DataLoader(test, batch_size = BATCH_SIZE, shuffle = False)\n"
      ]
    },
    {
      "cell_type": "markdown",
      "metadata": {
        "id": "41zAlR231C4S"
      },
      "source": [
        "### Create a CNN Model"
      ]
    },
    {
      "cell_type": "code",
      "execution_count": 5,
      "metadata": {
        "id": "lPrV8Y4s1C4T"
      },
      "outputs": [],
      "source": [
        "class CNN(nn.Module):\n",
        "    def __init__(self):\n",
        "        super(CNN, self).__init__()\n",
        "        self.conv1 = nn.Conv2d(1, 32, kernel_size=5)\n",
        "        self.conv2 = nn.Conv2d(32, 32, kernel_size=5)\n",
        "        self.conv3 = nn.Conv2d(32,64, kernel_size=5)\n",
        "        self.fc1 = nn.Linear(3*3*64, 256)\n",
        "        #10 numbers\n",
        "        self.fc2 = nn.Linear(256, 10)\n",
        "\n",
        "    def forward(self, x):\n",
        "        x = self.conv1(x) #1 -> 32\n",
        "        x = F.relu(x)\n",
        "\n",
        "        x = self.conv2(x) #32 -> 32\n",
        "        x = F.max_pool2d(x,2)\n",
        "        x = F.relu(x)\n",
        "        x = F.dropout(x, p=0.5, training=self.training)\n",
        "\n",
        "        x = self.conv3(x) #32 -> 64\n",
        "        x = F.max_pool2d(x,2)\n",
        "        x = F.relu(x)\n",
        "        x = F.dropout(x, p=0.5, training=self.training)\n",
        "\n",
        "        x = x.view(-1,3*3*64 )\n",
        "        x = F.relu(self.fc1(x))\n",
        "        x = F.dropout(x, training=self.training)\n",
        "\n",
        "        x = self.fc2(x)\n",
        "\n",
        "        return F.log_softmax(x, dim=1)\n"
      ]
    },
    {
      "cell_type": "markdown",
      "metadata": {
        "id": "I4EPM2hf1C4U"
      },
      "source": [
        "### Fitting model"
      ]
    },
    {
      "cell_type": "code",
      "execution_count": 16,
      "metadata": {
        "id": "Io5aFLpw1C4U"
      },
      "outputs": [],
      "source": [
        "def fit(model, optimizer, train_loader):\n",
        "    # Use GPU to train\n",
        "    device = torch.device(\"cuda\" if torch.cuda.is_available() else \"cpu\")\n",
        "    model = model.to(device)\n",
        "\n",
        "    criterion = nn.CrossEntropyLoss()\n",
        "    EPOCHS = 20\n",
        "    model.train()\n",
        "    loss_values = []\n",
        "\n",
        "    for epoch in range(EPOCHS):\n",
        "        correct = 0\n",
        "        running_loss = 0.0\n",
        "        total_samples = 0\n",
        "\n",
        "        for batch_idx, (X_batch, y_batch) in enumerate(train_loader):\n",
        "            X_batch, y_batch = X_batch.to(device), y_batch.to(device)\n",
        "\n",
        "            optimizer.zero_grad()\n",
        "            output = model(X_batch)\n",
        "\n",
        "            loss = criterion(output, y_batch)\n",
        "            loss.backward()\n",
        "            optimizer.step()\n",
        "\n",
        "            running_loss += loss.item()\n",
        "\n",
        "            # Calculate training accuracy\n",
        "            _, predicted = torch.max(output.data, 1)\n",
        "            total_samples += y_batch.size(0)\n",
        "            correct += (predicted == y_batch).sum().item()\n",
        "\n",
        "        accuracy = correct / total_samples\n",
        "        epoch_loss = running_loss / len(train_loader)\n",
        "        loss_values.append(epoch_loss)\n",
        "\n",
        "        print('[Epoch %d] Loss: %.3f, Accuracy: %.3f' % (epoch + 1, epoch_loss, accuracy))\n",
        "\n",
        "    return loss_values\n"
      ]
    },
    {
      "cell_type": "code",
      "execution_count": 26,
      "metadata": {
        "colab": {
          "base_uri": "https://localhost:8080/"
        },
        "id": "Nj3lLjLY1C4U",
        "outputId": "b7a68a63-7af7-42f9-a879-40cfdffe8cf7"
      },
      "outputs": [
        {
          "output_type": "stream",
          "name": "stdout",
          "text": [
            "[Epoch 1] Loss: 0.473, Accuracy: 0.852\n",
            "[Epoch 2] Loss: 0.165, Accuracy: 0.951\n",
            "[Epoch 3] Loss: 0.135, Accuracy: 0.961\n",
            "[Epoch 4] Loss: 0.120, Accuracy: 0.966\n",
            "[Epoch 5] Loss: 0.102, Accuracy: 0.970\n",
            "[Epoch 6] Loss: 0.103, Accuracy: 0.970\n",
            "[Epoch 7] Loss: 0.095, Accuracy: 0.972\n",
            "[Epoch 8] Loss: 0.094, Accuracy: 0.974\n",
            "[Epoch 9] Loss: 0.089, Accuracy: 0.975\n",
            "[Epoch 10] Loss: 0.087, Accuracy: 0.975\n",
            "[Epoch 11] Loss: 0.082, Accuracy: 0.976\n",
            "[Epoch 12] Loss: 0.086, Accuracy: 0.977\n",
            "[Epoch 13] Loss: 0.085, Accuracy: 0.977\n",
            "[Epoch 14] Loss: 0.082, Accuracy: 0.976\n",
            "[Epoch 15] Loss: 0.079, Accuracy: 0.977\n",
            "[Epoch 16] Loss: 0.079, Accuracy: 0.979\n",
            "[Epoch 17] Loss: 0.080, Accuracy: 0.977\n",
            "[Epoch 18] Loss: 0.076, Accuracy: 0.978\n",
            "[Epoch 19] Loss: 0.073, Accuracy: 0.980\n",
            "[Epoch 20] Loss: 0.072, Accuracy: 0.980\n"
          ]
        }
      ],
      "source": [
        "device = torch.device(\"cuda\" if torch.cuda.is_available() else \"cpu\")\n",
        "\n",
        "cnn_adam = CNN().to(device)\n",
        "Adam = torch.optim.Adam(cnn_adam.parameters(), lr=5e-4, betas=(0.9, 0.999))\n",
        "Adam_model = fit(cnn_adam, Adam, train_loader)"
      ]
    },
    {
      "cell_type": "markdown",
      "metadata": {
        "id": "hTWf4dn-f8Ey"
      },
      "source": [
        "Training SGD"
      ]
    },
    {
      "cell_type": "code",
      "execution_count": 23,
      "metadata": {
        "colab": {
          "base_uri": "https://localhost:8080/"
        },
        "id": "ERS3cCIwf7X5",
        "outputId": "55c71907-da70-4e2f-8112-a486b1fba529"
      },
      "outputs": [
        {
          "output_type": "stream",
          "name": "stdout",
          "text": [
            "[Epoch 1] Loss: 1.725, Accuracy: 0.394\n",
            "[Epoch 2] Loss: 0.716, Accuracy: 0.762\n",
            "[Epoch 3] Loss: 0.467, Accuracy: 0.852\n",
            "[Epoch 4] Loss: 0.367, Accuracy: 0.884\n",
            "[Epoch 5] Loss: 0.316, Accuracy: 0.901\n",
            "[Epoch 6] Loss: 0.273, Accuracy: 0.916\n",
            "[Epoch 7] Loss: 0.249, Accuracy: 0.924\n",
            "[Epoch 8] Loss: 0.228, Accuracy: 0.929\n",
            "[Epoch 9] Loss: 0.217, Accuracy: 0.934\n",
            "[Epoch 10] Loss: 0.203, Accuracy: 0.938\n",
            "[Epoch 11] Loss: 0.191, Accuracy: 0.941\n",
            "[Epoch 12] Loss: 0.187, Accuracy: 0.944\n",
            "[Epoch 13] Loss: 0.173, Accuracy: 0.947\n",
            "[Epoch 14] Loss: 0.167, Accuracy: 0.949\n",
            "[Epoch 15] Loss: 0.160, Accuracy: 0.951\n",
            "[Epoch 16] Loss: 0.152, Accuracy: 0.953\n",
            "[Epoch 17] Loss: 0.151, Accuracy: 0.954\n",
            "[Epoch 18] Loss: 0.145, Accuracy: 0.955\n",
            "[Epoch 19] Loss: 0.146, Accuracy: 0.956\n",
            "[Epoch 20] Loss: 0.137, Accuracy: 0.958\n"
          ]
        }
      ],
      "source": [
        "cnn_sgd = CNN().to(device)\n",
        "SGD_optimizer = torch.optim.SGD(cnn_sgd.parameters(), lr=5e-4)\n",
        "SGD_model = fit(cnn_sgd, SGD_optimizer, train_loader)"
      ]
    },
    {
      "cell_type": "markdown",
      "source": [
        "Training a couple more popular Alg to compare"
      ],
      "metadata": {
        "id": "jKHpn0NGSxnT"
      }
    },
    {
      "cell_type": "markdown",
      "source": [
        "Adagrad"
      ],
      "metadata": {
        "id": "dbzBGDJqUH8o"
      }
    },
    {
      "cell_type": "code",
      "source": [
        "cnn_Adagrad = CNN().to(device)\n",
        "Adagrad = torch.optim.Adagrad(cnn_Adagrad.parameters(), lr=5e-4)\n",
        "Adagrad_model = fit(cnn_Adagrad, Adagrad, train_loader)"
      ],
      "metadata": {
        "id": "j4gSHqRiSw8t",
        "outputId": "002df606-e2a4-4dab-a182-cac086daeff6",
        "colab": {
          "base_uri": "https://localhost:8080/"
        }
      },
      "execution_count": 24,
      "outputs": [
        {
          "output_type": "stream",
          "name": "stdout",
          "text": [
            "[Epoch 1] Loss: 1.501, Accuracy: 0.493\n",
            "[Epoch 2] Loss: 0.696, Accuracy: 0.768\n",
            "[Epoch 3] Loss: 0.522, Accuracy: 0.831\n",
            "[Epoch 4] Loss: 0.433, Accuracy: 0.860\n",
            "[Epoch 5] Loss: 0.384, Accuracy: 0.879\n",
            "[Epoch 6] Loss: 0.349, Accuracy: 0.890\n",
            "[Epoch 7] Loss: 0.320, Accuracy: 0.900\n",
            "[Epoch 8] Loss: 0.303, Accuracy: 0.905\n",
            "[Epoch 9] Loss: 0.285, Accuracy: 0.912\n",
            "[Epoch 10] Loss: 0.271, Accuracy: 0.917\n",
            "[Epoch 11] Loss: 0.259, Accuracy: 0.919\n",
            "[Epoch 12] Loss: 0.250, Accuracy: 0.922\n",
            "[Epoch 13] Loss: 0.241, Accuracy: 0.925\n",
            "[Epoch 14] Loss: 0.231, Accuracy: 0.929\n",
            "[Epoch 15] Loss: 0.228, Accuracy: 0.929\n",
            "[Epoch 16] Loss: 0.221, Accuracy: 0.932\n",
            "[Epoch 17] Loss: 0.213, Accuracy: 0.934\n",
            "[Epoch 18] Loss: 0.207, Accuracy: 0.936\n",
            "[Epoch 19] Loss: 0.209, Accuracy: 0.936\n",
            "[Epoch 20] Loss: 0.202, Accuracy: 0.938\n"
          ]
        }
      ]
    },
    {
      "cell_type": "markdown",
      "source": [
        "RMSprop"
      ],
      "metadata": {
        "id": "P7VYtWJ3UKzq"
      }
    },
    {
      "cell_type": "code",
      "source": [
        "cnn_RMSprop = CNN().to(device)\n",
        "RMSprop = torch.optim.RMSprop(cnn_RMSprop.parameters(), lr=5e-4)\n",
        "RMSprop_model = fit(cnn_RMSprop, RMSprop, train_loader)"
      ],
      "metadata": {
        "id": "ElLmS0TaSxEb",
        "outputId": "509603ca-7821-4ff8-f6bb-48de4a27916e",
        "colab": {
          "base_uri": "https://localhost:8080/"
        }
      },
      "execution_count": 25,
      "outputs": [
        {
          "output_type": "stream",
          "name": "stdout",
          "text": [
            "[Epoch 1] Loss: 0.368, Accuracy: 0.897\n",
            "[Epoch 2] Loss: 0.132, Accuracy: 0.962\n",
            "[Epoch 3] Loss: 0.110, Accuracy: 0.968\n",
            "[Epoch 4] Loss: 0.101, Accuracy: 0.971\n",
            "[Epoch 5] Loss: 0.099, Accuracy: 0.973\n",
            "[Epoch 6] Loss: 0.092, Accuracy: 0.975\n",
            "[Epoch 7] Loss: 0.093, Accuracy: 0.974\n",
            "[Epoch 8] Loss: 0.088, Accuracy: 0.976\n",
            "[Epoch 9] Loss: 0.091, Accuracy: 0.975\n",
            "[Epoch 10] Loss: 0.088, Accuracy: 0.976\n",
            "[Epoch 11] Loss: 0.086, Accuracy: 0.977\n",
            "[Epoch 12] Loss: 0.087, Accuracy: 0.978\n",
            "[Epoch 13] Loss: 0.090, Accuracy: 0.977\n",
            "[Epoch 14] Loss: 0.087, Accuracy: 0.977\n",
            "[Epoch 15] Loss: 0.093, Accuracy: 0.976\n",
            "[Epoch 16] Loss: 0.088, Accuracy: 0.978\n",
            "[Epoch 17] Loss: 0.091, Accuracy: 0.978\n",
            "[Epoch 18] Loss: 0.091, Accuracy: 0.977\n",
            "[Epoch 19] Loss: 0.090, Accuracy: 0.977\n",
            "[Epoch 20] Loss: 0.088, Accuracy: 0.977\n"
          ]
        }
      ]
    },
    {
      "cell_type": "markdown",
      "source": [
        "L-BFGS (Approximate Hessian)  \\\n",
        "will not converge as expect (BFGS does not scale well on large dataset)"
      ],
      "metadata": {
        "id": "AMIx_rnZVMPH"
      }
    },
    {
      "cell_type": "code",
      "source": [
        "cnn_LBFGS = CNN().to(device)\n",
        "LBFGS = torch.optim.LBFGS(cnn_LBFGS.parameters(), history_size=20, max_iter=4, lr=0.01)\n",
        "\n",
        "criterion = nn.CrossEntropyLoss()\n",
        "epochs = 30\n",
        "LBFGS_loss = []\n",
        "\n",
        "for epoch in range(epochs):\n",
        "    running_loss = 0.0\n",
        "\n",
        "    for batch_idx, (X_batch, y_batch) in enumerate(train_loader):\n",
        "      X_batch, y_batch = X_batch.to(device), y_batch.to(device)\n",
        "\n",
        "      def closure():\n",
        "        # Zero gradients\n",
        "        LBFGS.zero_grad()\n",
        "        y_pred = cnn_LBFGS(X_batch)\n",
        "        loss = criterion(y_pred, y_batch)\n",
        "        loss.backward()\n",
        "        return loss\n",
        "\n",
        "      LBFGS.step(closure)\n",
        "      loss = closure()\n",
        "      running_loss += loss.item()\n",
        "\n",
        "    epoch_loss = running_loss / len(train_loader)\n",
        "    LBFGS_loss.append(epoch_loss)\n",
        "\n",
        "    print('[Epoch %d] Loss: %.3f' % (epoch + 1, epoch_loss))"
      ],
      "metadata": {
        "id": "hyUKS2mkSxHC"
      },
      "execution_count": null,
      "outputs": []
    },
    {
      "cell_type": "markdown",
      "metadata": {
        "id": "RWJTwsi4hprD"
      },
      "source": [
        "Plot Training Loss"
      ]
    },
    {
      "cell_type": "code",
      "execution_count": 27,
      "metadata": {
        "colab": {
          "base_uri": "https://localhost:8080/",
          "height": 472
        },
        "id": "niVdUHhp1C4U",
        "outputId": "af679bba-8ab1-48b4-ef3a-572ce8eb8247"
      },
      "outputs": [
        {
          "output_type": "display_data",
          "data": {
            "text/plain": [
              "<Figure size 640x480 with 1 Axes>"
            ],
            "image/png": "[encoded data removed]"
          },
          "metadata": {}
        }
      ],
      "source": [
        "plt.plot(Adam_model, label='Adam')\n",
        "plt.plot(SGD_model,label='SGD')\n",
        "plt.plot(Adagrad_model,label='Adagrad')\n",
        "plt.plot(RMSprop_model,label='RMSprop')\n",
        "#plt.plot(LBFGS_loss,label='L-BFGS')\n",
        "\n",
        "plt.xlabel('Epoch')\n",
        "plt.ylabel('Training Loss')\n",
        "plt.title('Training Loss over Epoches')\n",
        "plt.legend()\n",
        "plt.show()"
      ]
    },
    {
      "cell_type": "code",
      "execution_count": null,
      "metadata": {
        "id": "YDpEh0QP6wXx"
      },
      "outputs": [],
      "source": [
        "def evaluate(model):\n",
        "  model.eval()\n",
        "  correct = 0\n",
        "\n",
        "  with torch.no_grad():\n",
        "    for test_imgs, test_labels in test_loader:\n",
        "        test_imgs, test_labels = test_imgs.to(device), test_labels.to(device)\n",
        "        test_imgs = Variable(test_imgs).float()\n",
        "        output = model(test_imgs)\n",
        "        #calculate accuracy\n",
        "        predicted = torch.max(output,1)[1]\n",
        "        correct += (predicted == test_labels).sum()\n",
        "\n",
        "    accuracy = correct / (len(test_loader.dataset))\n",
        "    print(\"Accuracy: {:.3f}%\".format(accuracy * 100))\n"
      ]
    },
    {
      "cell_type": "code",
      "execution_count": null,
      "metadata": {
        "colab": {
          "base_uri": "https://localhost:8080/"
        },
        "id": "Iw10_BWs6x4A",
        "outputId": "bfc56677-0421-43dc-9b51-753cc9c931ae"
      },
      "outputs": [
        {
          "output_type": "stream",
          "name": "stdout",
          "text": [
            "Accuracy: 98.700%\n"
          ]
        }
      ],
      "source": [
        "evaluate(cnn_adam)\n"
      ]
    },
    {
      "cell_type": "code",
      "execution_count": null,
      "metadata": {
        "colab": {
          "base_uri": "https://localhost:8080/"
        },
        "id": "cCkylVI7hZx1",
        "outputId": "50aed8b3-aa35-4ad6-df2e-006677a28748"
      },
      "outputs": [
        {
          "output_type": "stream",
          "name": "stdout",
          "text": [
            "Accuracy: 99.120%\n"
          ]
        }
      ],
      "source": [
        "evaluate(cnn_sgd)"
      ]
    },
    {
      "cell_type": "code",
      "execution_count": null,
      "metadata": {
        "id": "eTjrh_TpjNLu",
        "outputId": "0290d656-3f1a-4e3c-9f9a-829de3ec1a0c",
        "colab": {
          "base_uri": "https://localhost:8080/"
        }
      },
      "outputs": [
        {
          "output_type": "stream",
          "name": "stdout",
          "text": [
            "Accuracy: 98.230%\n"
          ]
        }
      ],
      "source": [
        "evaluate(cnn_RMSprop)"
      ]
    },
    {
      "cell_type": "code",
      "source": [
        "evaluate(cnn_Adagrad)"
      ],
      "metadata": {
        "id": "ICOQznZRf1oG",
        "outputId": "13fb8584-2c56-4bb9-8dcf-52e7f8c23b9b",
        "colab": {
          "base_uri": "https://localhost:8080/"
        }
      },
      "execution_count": null,
      "outputs": [
        {
          "output_type": "stream",
          "name": "stdout",
          "text": [
            "Accuracy: 98.730%\n"
          ]
        }
      ]
    }
  ],
  "metadata": {
    "accelerator": "GPU",
    "colab": {
      "gpuType": "T4",
      "provenance": []
    },
    "kernelspec": {
      "display_name": "Python 3",
      "name": "python3"
    },
    "language_info": {
      "codemirror_mode": {
        "name": "ipython",
        "version": 3
      },
      "file_extension": ".py",
      "mimetype": "text/x-python",
      "name": "python",
      "nbconvert_exporter": "python",
      "pygments_lexer": "ipython3",
      "version": "3.11.5"
    }
  },
  "nbformat": 4,
  "nbformat_minor": 0
}