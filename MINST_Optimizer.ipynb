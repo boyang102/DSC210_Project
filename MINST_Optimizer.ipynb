{
  "cells": [
    {
      "cell_type": "code",
      "execution_count": 1,
      "metadata": {
        "id": "T1VrgP2-1C4M"
      },
      "outputs": [],
      "source": [
        "import os\n",
        "import torch\n",
        "import torch.nn as nn\n",
        "import torch.optim as optim\n",
        "import torch.nn.functional as F\n",
        "from torchvision.datasets import MNIST\n",
        "from torchvision import transforms,datasets\n",
        "from torch.utils.data import DataLoader,random_split\n",
        "\n",
        "import numpy as np\n",
        "from matplotlib import pyplot as plt\n",
        "from torchsummary import summary"
      ]
    },
    {
      "cell_type": "markdown",
      "source": [
        "Fix random seed"
      ],
      "metadata": {
        "id": "K6JU0oKjYqqH"
      }
    },
    {
      "cell_type": "code",
      "source": [
        "import random\n",
        "# Set the seed for Python's built-in random module\n",
        "random_seed = 42\n",
        "random.seed(random_seed)\n",
        "\n",
        "# Set the seed for NumPy\n",
        "np.random.seed(random_seed)\n",
        "\n",
        "# Set the seed for PyTorch\n",
        "torch.manual_seed(random_seed)\n",
        "torch.cuda.manual_seed_all(random_seed)\n",
        "torch.backends.cudnn.deterministic = True\n",
        "torch.backends.cudnn.benchmark = False"
      ],
      "metadata": {
        "id": "T4SCyh49Yp3v"
      },
      "execution_count": 2,
      "outputs": []
    },
    {
      "cell_type": "markdown",
      "metadata": {
        "id": "S2Ht0iPM1C4P"
      },
      "source": [
        "### Loading Dataset"
      ]
    },
    {
      "cell_type": "markdown",
      "source": [
        "We can load MNIST from Pytroch directly"
      ],
      "metadata": {
        "id": "Z5smG27qSG7f"
      }
    },
    {
      "cell_type": "code",
      "source": [
        "from torchvision.datasets import MNIST"
      ],
      "metadata": {
        "id": "0ttiTtLCR8Su"
      },
      "execution_count": 3,
      "outputs": []
    },
    {
      "cell_type": "markdown",
      "source": [
        "### Data Preprocessing"
      ],
      "metadata": {
        "id": "Z3oTzpZBSC5_"
      }
    },
    {
      "cell_type": "markdown",
      "source": [
        "For better performance, we will standardize the input tensor (or images) using predetermined mean and standard deviation values (mean=0.1307, sd=0.3081)\n",
        "\n",
        "\n",
        "Subsequently, we'll follow the usal procedure of splitting the dataset into training, validation, and testing sets."
      ],
      "metadata": {
        "id": "sFZNvx4ASM6X"
      }
    },
    {
      "cell_type": "code",
      "source": [
        "batch_size_train = 64\n",
        "batch_size_test = 1000\n",
        "\n",
        "transform=transforms.Compose([\n",
        "    transforms.ToTensor(),\n",
        "    transforms.Normalize((0.1307,), (0.3081,))\n",
        "    ])\n",
        "\n",
        "train_loader = torch.utils.data.DataLoader(\n",
        "    MNIST('/files/', train=True, download=True,\n",
        "                             transform = transform),\n",
        "  batch_size=batch_size_train, shuffle=True)\n",
        "\n",
        "\n",
        "test_loader = torch.utils.data.DataLoader(\n",
        "    MNIST('/files/', train=False, download=True,\n",
        "                             transform = transform),\n",
        "  batch_size=batch_size_test, shuffle=True)"
      ],
      "metadata": {
        "id": "7yx6EMxCS0-c"
      },
      "execution_count": 4,
      "outputs": []
    },
    {
      "cell_type": "markdown",
      "source": [
        "The shape of inputs for tranining would be batch size = 64   \n",
        "channel = 1   \n",
        "height,width = 28, 28"
      ],
      "metadata": {
        "id": "8J7Re-g5XBYv"
      }
    },
    {
      "cell_type": "code",
      "execution_count": 5,
      "metadata": {
        "colab": {
          "base_uri": "https://localhost:8080/"
        },
        "id": "8VTIGBJk1C4Q",
        "outputId": "fd6c1124-9c93-4596-82c1-cce6d3793788"
      },
      "outputs": [
        {
          "output_type": "execute_result",
          "data": {
            "text/plain": [
              "torch.Size([64, 1, 28, 28])"
            ]
          },
          "metadata": {},
          "execution_count": 5
        }
      ],
      "source": [
        "examples = enumerate(train_loader)\n",
        "batch_idx, (example_data, example_targets) = next(examples)\n",
        "example_data.shape"
      ]
    },
    {
      "cell_type": "markdown",
      "source": [
        "Let's display some picture for the dataset"
      ],
      "metadata": {
        "id": "fzsDCRiJXXNO"
      }
    },
    {
      "cell_type": "code",
      "source": [
        "import matplotlib.pyplot as plt\n",
        "\n",
        "fig = plt.figure()\n",
        "for i in range(3):\n",
        "  plt.subplot(2,3,i+1)\n",
        "  plt.tight_layout()\n",
        "  plt.imshow(example_data[i][0], cmap='gray', interpolation='none')\n",
        "  plt.title(\"Label: {}\".format(example_targets[i]))\n",
        "  plt.xticks([])\n",
        "  plt.yticks([])\n",
        "fig"
      ],
      "metadata": {
        "id": "i-fby73vXaH6",
        "outputId": "6b8aa87f-d35b-4a67-b5f9-0b501aa64a48",
        "colab": {
          "base_uri": "https://localhost:8080/",
          "height": 435
        }
      },
      "execution_count": 6,
      "outputs": [
        {
          "output_type": "execute_result",
          "data": {
            "text/plain": [
              "<Figure size 640x480 with 3 Axes>"
            ],
            "image/png": "[encoded data removed]"
          },
          "metadata": {},
          "execution_count": 6
        },
        {
          "output_type": "display_data",
          "data": {
            "text/plain": [
              "<Figure size 640x480 with 3 Axes>"
            ],
            "image/png": "[encoded data removed]"
          },
          "metadata": {}
        }
      ]
    },
    {
      "cell_type": "markdown",
      "source": [
        "Now we are ready to build out network!  \n",
        "For simplicity, we will build a simple CNN network to compare different optimizer"
      ],
      "metadata": {
        "id": "bjmetuc4W_nx"
      }
    },
    {
      "cell_type": "markdown",
      "metadata": {
        "id": "41zAlR231C4S"
      },
      "source": [
        "### Create a CNN Model"
      ]
    },
    {
      "cell_type": "code",
      "execution_count": 7,
      "metadata": {
        "id": "lPrV8Y4s1C4T"
      },
      "outputs": [],
      "source": [
        "class Simple_CNN(nn.Module):\n",
        "    def __init__(self):\n",
        "        super(Simple_CNN, self).__init__()\n",
        "\n",
        "        self.conv1 = nn.Conv2d(1, 32, kernel_size=5, padding=2)\n",
        "        self.pool1 = nn.MaxPool2d(kernel_size=3, stride=3)\n",
        "        self.conv2 = nn.Conv2d(32, 64, kernel_size=5)\n",
        "        self.pool2 = nn.MaxPool2d(kernel_size=2, stride=2)\n",
        "        self.flatten = nn.Flatten()\n",
        "\n",
        "        self.fc = nn.Linear(64 * 2 * 2, 10)\n",
        "\n",
        "    def forward(self, x):\n",
        "        x = self.pool1(torch.relu(self.conv1(x)))\n",
        "        x = self.pool2(torch.relu(self.conv2(x)))\n",
        "\n",
        "        x = self.flatten(x)\n",
        "        x = self.fc(x)\n",
        "\n",
        "        return F.log_softmax(x, dim=1)\n"
      ]
    },
    {
      "cell_type": "markdown",
      "source": [
        "Print summary table of the model"
      ],
      "metadata": {
        "id": "vKgjEDzJTVKs"
      }
    },
    {
      "cell_type": "code",
      "source": [
        "model = Simple_CNN()\n",
        "\n",
        "device = torch.device(\"cuda\" if torch.cuda.is_available() else \"cpu\")\n",
        "model.to(device)\n",
        "\n",
        "summary(model, (1, 28, 28))\n"
      ],
      "metadata": {
        "id": "Am6E7w0sQf93",
        "colab": {
          "base_uri": "https://localhost:8080/"
        },
        "outputId": "277eec33-b846-4ee5-ef89-d52d420d469e"
      },
      "execution_count": 8,
      "outputs": [
        {
          "output_type": "stream",
          "name": "stdout",
          "text": [
            "----------------------------------------------------------------\n",
            "        Layer (type)               Output Shape         Param #\n",
            "================================================================\n",
            "            Conv2d-1           [-1, 32, 28, 28]             832\n",
            "         MaxPool2d-2             [-1, 32, 9, 9]               0\n",
            "            Conv2d-3             [-1, 64, 5, 5]          51,264\n",
            "         MaxPool2d-4             [-1, 64, 2, 2]               0\n",
            "           Flatten-5                  [-1, 256]               0\n",
            "            Linear-6                   [-1, 10]           2,570\n",
            "================================================================\n",
            "Total params: 54,666\n",
            "Trainable params: 54,666\n",
            "Non-trainable params: 0\n",
            "----------------------------------------------------------------\n",
            "Input size (MB): 0.00\n",
            "Forward/backward pass size (MB): 0.23\n",
            "Params size (MB): 0.21\n",
            "Estimated Total Size (MB): 0.44\n",
            "----------------------------------------------------------------\n"
          ]
        }
      ]
    },
    {
      "cell_type": "markdown",
      "metadata": {
        "id": "I4EPM2hf1C4U"
      },
      "source": [
        "### Fitting model"
      ]
    },
    {
      "cell_type": "code",
      "execution_count": 9,
      "metadata": {
        "id": "Io5aFLpw1C4U"
      },
      "outputs": [],
      "source": [
        "def fit(model, optimizer, train_loader):\n",
        "    # Use GPU to train\n",
        "    model = model.to(device)\n",
        "\n",
        "    EPOCHS = 20\n",
        "    model.train()\n",
        "    loss_values = []\n",
        "\n",
        "    for epoch in range(EPOCHS):\n",
        "        correct = 0\n",
        "        running_loss = 0.0\n",
        "        total_samples = 0\n",
        "\n",
        "        for batch_idx, (X_batch, y_batch) in enumerate(train_loader):\n",
        "            X_batch, y_batch = X_batch.to(device), y_batch.to(device)\n",
        "\n",
        "            optimizer.zero_grad()\n",
        "            output = model(X_batch)\n",
        "\n",
        "            loss = F.nll_loss(output, y_batch)\n",
        "            loss.backward()\n",
        "            optimizer.step()\n",
        "\n",
        "            running_loss += loss.item()\n",
        "\n",
        "        epoch_loss = running_loss / len(train_loader)\n",
        "        loss_values.append(epoch_loss)\n",
        "\n",
        "        print('[Epoch %d] Loss: %.3f' % (epoch + 1, epoch_loss))\n",
        "\n",
        "    return loss_values\n"
      ]
    },
    {
      "cell_type": "markdown",
      "source": [
        "First, we will fit the Adam Optimizer with learning rate of 5e-4 and beta as (0.9,0.999) as the original paper suggests"
      ],
      "metadata": {
        "id": "m8NJMhtvTqwG"
      }
    },
    {
      "cell_type": "code",
      "execution_count": 10,
      "metadata": {
        "colab": {
          "base_uri": "https://localhost:8080/"
        },
        "id": "Nj3lLjLY1C4U",
        "outputId": "c559a4ef-0958-4a6f-df3b-f50f82f7ae14"
      },
      "outputs": [
        {
          "output_type": "stream",
          "name": "stdout",
          "text": [
            "[Epoch 1] Loss: 0.217\n",
            "[Epoch 2] Loss: 0.061\n",
            "[Epoch 3] Loss: 0.044\n",
            "[Epoch 4] Loss: 0.034\n",
            "[Epoch 5] Loss: 0.028\n",
            "[Epoch 6] Loss: 0.023\n",
            "[Epoch 7] Loss: 0.018\n",
            "[Epoch 8] Loss: 0.016\n",
            "[Epoch 9] Loss: 0.014\n",
            "[Epoch 10] Loss: 0.011\n",
            "[Epoch 11] Loss: 0.010\n",
            "[Epoch 12] Loss: 0.008\n",
            "[Epoch 13] Loss: 0.007\n",
            "[Epoch 14] Loss: 0.007\n",
            "[Epoch 15] Loss: 0.007\n",
            "[Epoch 16] Loss: 0.005\n",
            "[Epoch 17] Loss: 0.005\n",
            "[Epoch 18] Loss: 0.004\n",
            "[Epoch 19] Loss: 0.005\n",
            "[Epoch 20] Loss: 0.002\n"
          ]
        }
      ],
      "source": [
        "cnn_adam = Simple_CNN().to(device)\n",
        "Adam = torch.optim.Adam(cnn_adam.parameters(), lr=5e-4, betas=(0.9, 0.999))\n",
        "Adam_model = fit(cnn_adam, Adam, train_loader)"
      ]
    },
    {
      "cell_type": "markdown",
      "metadata": {
        "id": "hTWf4dn-f8Ey"
      },
      "source": [
        "We also train with a naive SGD Optimizer with learing rate of 5e-4"
      ]
    },
    {
      "cell_type": "code",
      "execution_count": 11,
      "metadata": {
        "colab": {
          "base_uri": "https://localhost:8080/"
        },
        "id": "ERS3cCIwf7X5",
        "outputId": "dd6143b5-2be0-4cfd-dae6-1cde092570e1"
      },
      "outputs": [
        {
          "output_type": "stream",
          "name": "stdout",
          "text": [
            "[Epoch 1] Loss: 2.033\n",
            "[Epoch 2] Loss: 1.323\n",
            "[Epoch 3] Loss: 0.742\n",
            "[Epoch 4] Loss: 0.510\n",
            "[Epoch 5] Loss: 0.407\n",
            "[Epoch 6] Loss: 0.348\n",
            "[Epoch 7] Loss: 0.309\n",
            "[Epoch 8] Loss: 0.280\n",
            "[Epoch 9] Loss: 0.258\n",
            "[Epoch 10] Loss: 0.239\n",
            "[Epoch 11] Loss: 0.224\n",
            "[Epoch 12] Loss: 0.211\n",
            "[Epoch 13] Loss: 0.200\n",
            "[Epoch 14] Loss: 0.191\n",
            "[Epoch 15] Loss: 0.182\n",
            "[Epoch 16] Loss: 0.174\n",
            "[Epoch 17] Loss: 0.167\n",
            "[Epoch 18] Loss: 0.161\n",
            "[Epoch 19] Loss: 0.155\n",
            "[Epoch 20] Loss: 0.150\n"
          ]
        }
      ],
      "source": [
        "cnn_sgd = Simple_CNN().to(device)\n",
        "SGD_optimizer = torch.optim.SGD(cnn_sgd.parameters(), lr=5e-4)\n",
        "SGD_model = fit(cnn_sgd, SGD_optimizer, train_loader)"
      ]
    },
    {
      "cell_type": "markdown",
      "source": [
        "Adagrad with learning rate of 5e-4"
      ],
      "metadata": {
        "id": "dbzBGDJqUH8o"
      }
    },
    {
      "cell_type": "code",
      "source": [
        "cnn_Adagrad = Simple_CNN().to(device)\n",
        "Adagrad = torch.optim.Adagrad(cnn_Adagrad.parameters(), lr=5e-4)\n",
        "Adagrad_model = fit(cnn_Adagrad, Adagrad, train_loader)"
      ],
      "metadata": {
        "id": "j4gSHqRiSw8t",
        "outputId": "79276cc8-9669-40fd-df3c-2620381af72d",
        "colab": {
          "base_uri": "https://localhost:8080/"
        }
      },
      "execution_count": 12,
      "outputs": [
        {
          "output_type": "stream",
          "name": "stdout",
          "text": [
            "[Epoch 1] Loss: 0.793\n",
            "[Epoch 2] Loss: 0.358\n",
            "[Epoch 3] Loss: 0.279\n",
            "[Epoch 4] Loss: 0.240\n",
            "[Epoch 5] Loss: 0.216\n",
            "[Epoch 6] Loss: 0.199\n",
            "[Epoch 7] Loss: 0.186\n",
            "[Epoch 8] Loss: 0.176\n",
            "[Epoch 9] Loss: 0.167\n",
            "[Epoch 10] Loss: 0.160\n",
            "[Epoch 11] Loss: 0.154\n",
            "[Epoch 12] Loss: 0.148\n",
            "[Epoch 13] Loss: 0.144\n",
            "[Epoch 14] Loss: 0.139\n",
            "[Epoch 15] Loss: 0.135\n",
            "[Epoch 16] Loss: 0.132\n",
            "[Epoch 17] Loss: 0.129\n",
            "[Epoch 18] Loss: 0.126\n",
            "[Epoch 19] Loss: 0.123\n",
            "[Epoch 20] Loss: 0.121\n"
          ]
        }
      ]
    },
    {
      "cell_type": "markdown",
      "source": [
        "RMSprop with learning rate of 5e-4"
      ],
      "metadata": {
        "id": "P7VYtWJ3UKzq"
      }
    },
    {
      "cell_type": "code",
      "source": [
        "cnn_RMSprop = Simple_CNN().to(device)\n",
        "RMSprop = torch.optim.RMSprop(cnn_RMSprop.parameters(), lr=5e-4)\n",
        "RMSprop_model = fit(cnn_RMSprop, RMSprop, train_loader)"
      ],
      "metadata": {
        "id": "ElLmS0TaSxEb",
        "outputId": "11d2b9dd-4483-4c08-9ba8-d9025dc82149",
        "colab": {
          "base_uri": "https://localhost:8080/"
        }
      },
      "execution_count": 13,
      "outputs": [
        {
          "output_type": "stream",
          "name": "stdout",
          "text": [
            "[Epoch 1] Loss: 0.209\n",
            "[Epoch 2] Loss: 0.070\n",
            "[Epoch 3] Loss: 0.051\n",
            "[Epoch 4] Loss: 0.040\n",
            "[Epoch 5] Loss: 0.033\n",
            "[Epoch 6] Loss: 0.028\n",
            "[Epoch 7] Loss: 0.024\n",
            "[Epoch 8] Loss: 0.021\n",
            "[Epoch 9] Loss: 0.018\n",
            "[Epoch 10] Loss: 0.016\n",
            "[Epoch 11] Loss: 0.013\n",
            "[Epoch 12] Loss: 0.011\n",
            "[Epoch 13] Loss: 0.010\n",
            "[Epoch 14] Loss: 0.009\n",
            "[Epoch 15] Loss: 0.008\n",
            "[Epoch 16] Loss: 0.007\n",
            "[Epoch 17] Loss: 0.006\n",
            "[Epoch 18] Loss: 0.006\n",
            "[Epoch 19] Loss: 0.004\n",
            "[Epoch 20] Loss: 0.005\n"
          ]
        }
      ]
    },
    {
      "cell_type": "markdown",
      "source": [
        "L-BFGS with learning rate of 5e-4, max_iteration of 1 and history size = 20.\n",
        "\n",
        "\n",
        "Although L-BFGS holds theoretical superiority by leveraging second-order derivatives, the practical limitation of computational resources constrains the increase useage of both the maximum iteration count and history size to attain its optimal efficacy. It is noteworthy that the study conducted by Le et al., titled \"On Optimization Methods for Deep Learning,\" attests to the achievement of state-of-the-art outcomes in convolutional neural networks through the application of L-BFGS."
      ],
      "metadata": {
        "id": "AMIx_rnZVMPH"
      }
    },
    {
      "cell_type": "code",
      "source": [
        "cnn_LBFGS = Simple_CNN()\n",
        "cnn_LBFGS.to(device)\n",
        "LBFGS = torch.optim.LBFGS(cnn_LBFGS.parameters(),lr=5e-4,max_iter=1,history_size=20,\n",
        "                          line_search_fn='strong_wolfe')\n",
        "\n",
        "epochs = 20\n",
        "LBFGS_loss = []\n",
        "\n",
        "for epoch in range(epochs):\n",
        "    running_loss = 0.0\n",
        "\n",
        "    for batch_idx, (X_batch, y_batch) in enumerate(train_loader):\n",
        "      X_batch, y_batch = X_batch.to(device), y_batch.to(device)\n",
        "\n",
        "      def closure():\n",
        "        # Zero gradients\n",
        "        LBFGS.zero_grad()\n",
        "        y_pred = cnn_LBFGS(X_batch)\n",
        "        loss = F.nll_loss(y_pred, y_batch)\n",
        "        loss.backward()\n",
        "        return loss\n",
        "\n",
        "      LBFGS.step(closure)\n",
        "      loss = closure()\n",
        "      running_loss += loss.item()\n",
        "\n",
        "    epoch_loss = running_loss / len(train_loader)\n",
        "    LBFGS_loss.append(epoch_loss)\n",
        "\n",
        "    print('[Epoch %d] Loss: %.3f' % (epoch + 1, epoch_loss))\n",
        "\n",
        ""
      ],
      "metadata": {
        "id": "hyUKS2mkSxHC",
        "outputId": "37621e5c-eccb-4367-9b02-e2c8d1acc90a",
        "colab": {
          "base_uri": "https://localhost:8080/"
        }
      },
      "execution_count": 14,
      "outputs": [
        {
          "output_type": "stream",
          "name": "stdout",
          "text": [
            "[Epoch 1] Loss: 0.268\n",
            "[Epoch 2] Loss: 0.155\n",
            "[Epoch 3] Loss: 0.134\n",
            "[Epoch 4] Loss: 0.117\n",
            "[Epoch 5] Loss: 0.105\n",
            "[Epoch 6] Loss: 0.097\n",
            "[Epoch 7] Loss: 0.091\n",
            "[Epoch 8] Loss: 0.084\n",
            "[Epoch 9] Loss: 0.079\n",
            "[Epoch 10] Loss: 0.075\n",
            "[Epoch 11] Loss: 0.069\n",
            "[Epoch 12] Loss: 0.066\n",
            "[Epoch 13] Loss: 0.062\n",
            "[Epoch 14] Loss: 0.061\n",
            "[Epoch 15] Loss: 0.058\n",
            "[Epoch 16] Loss: 0.056\n",
            "[Epoch 17] Loss: 0.052\n",
            "[Epoch 18] Loss: 0.051\n",
            "[Epoch 19] Loss: 0.048\n",
            "[Epoch 20] Loss: 0.048\n"
          ]
        }
      ]
    },
    {
      "cell_type": "markdown",
      "metadata": {
        "id": "RWJTwsi4hprD"
      },
      "source": [
        "Plot Training Loss for comparision"
      ]
    },
    {
      "cell_type": "code",
      "execution_count": 15,
      "metadata": {
        "colab": {
          "base_uri": "https://localhost:8080/",
          "height": 472
        },
        "id": "niVdUHhp1C4U",
        "outputId": "bfc626e1-3563-4202-801d-22fb46b53b7b"
      },
      "outputs": [
        {
          "output_type": "display_data",
          "data": {
            "text/plain": [
              "<Figure size 640x480 with 1 Axes>"
            ],
            "image/png": "[encoded data removed]"
          },
          "metadata": {}
        }
      ],
      "source": [
        "plt.plot(Adam_model, label='Adam')\n",
        "plt.plot(SGD_model,label='SGD')\n",
        "plt.plot(Adagrad_model,label='Adagrad')\n",
        "plt.plot(RMSprop_model,linestyle='--',label='RMSprop',alpha=0.7)\n",
        "plt.plot(LBFGS_loss,linestyle=':',label='L-BFGS',alpha=0.7)\n",
        "\n",
        "plt.xlabel('Epoch')\n",
        "plt.ylabel('Training Loss')\n",
        "plt.title('Training Loss over Epoches')\n",
        "plt.legend()\n",
        "plt.show()"
      ]
    },
    {
      "cell_type": "markdown",
      "source": [
        "Evaluate these methods on test sets to compare their accuracy"
      ],
      "metadata": {
        "id": "C2XigOirWSyA"
      }
    },
    {
      "cell_type": "code",
      "execution_count": 16,
      "metadata": {
        "id": "YDpEh0QP6wXx"
      },
      "outputs": [],
      "source": [
        "def evaluate(model):\n",
        "  model.eval()\n",
        "  correct = 0\n",
        "\n",
        "  with torch.no_grad():\n",
        "    for test_imgs, test_labels in test_loader:\n",
        "        test_imgs, test_labels = test_imgs.to(device), test_labels.to(device)\n",
        "        test_imgs = test_imgs.float().to(device)\n",
        "        output = model(test_imgs)\n",
        "        #calculate accuracy\n",
        "        predicted = torch.max(output,1)[1]\n",
        "        correct += (predicted == test_labels).sum()\n",
        "\n",
        "    accuracy = correct / (len(test_loader.dataset))\n",
        "    print(\"Accuracy: {:.3f}%\".format(accuracy * 100))\n"
      ]
    },
    {
      "cell_type": "code",
      "execution_count": 17,
      "metadata": {
        "colab": {
          "base_uri": "https://localhost:8080/"
        },
        "id": "Iw10_BWs6x4A",
        "outputId": "0a4bddf2-da8f-43df-935a-8a838bf121d2"
      },
      "outputs": [
        {
          "output_type": "stream",
          "name": "stdout",
          "text": [
            "Accuracy: 99.230%\n"
          ]
        }
      ],
      "source": [
        "evaluate(cnn_adam)"
      ]
    },
    {
      "cell_type": "code",
      "execution_count": 18,
      "metadata": {
        "colab": {
          "base_uri": "https://localhost:8080/"
        },
        "id": "cCkylVI7hZx1",
        "outputId": "a1b5714c-cd4b-48b5-b9be-f696a62352e4"
      },
      "outputs": [
        {
          "output_type": "stream",
          "name": "stdout",
          "text": [
            "Accuracy: 96.090%\n"
          ]
        }
      ],
      "source": [
        "evaluate(cnn_sgd)"
      ]
    },
    {
      "cell_type": "code",
      "execution_count": 19,
      "metadata": {
        "id": "eTjrh_TpjNLu",
        "outputId": "2b0c81d7-525f-4cbb-8c04-ecb74c8022d2",
        "colab": {
          "base_uri": "https://localhost:8080/"
        }
      },
      "outputs": [
        {
          "output_type": "stream",
          "name": "stdout",
          "text": [
            "Accuracy: 98.980%\n"
          ]
        }
      ],
      "source": [
        "evaluate(cnn_RMSprop)"
      ]
    },
    {
      "cell_type": "code",
      "source": [
        "evaluate(cnn_Adagrad)"
      ],
      "metadata": {
        "id": "ICOQznZRf1oG",
        "outputId": "e42f10c6-ee74-481b-ddde-a22a24ac95c4",
        "colab": {
          "base_uri": "https://localhost:8080/"
        }
      },
      "execution_count": 20,
      "outputs": [
        {
          "output_type": "stream",
          "name": "stdout",
          "text": [
            "Accuracy: 96.850%\n"
          ]
        }
      ]
    },
    {
      "cell_type": "code",
      "source": [
        "evaluate(cnn_LBFGS)"
      ],
      "metadata": {
        "id": "KDuFMsTk15K5",
        "outputId": "60702400-81a5-4dbc-d33a-0166d6d21880",
        "colab": {
          "base_uri": "https://localhost:8080/"
        }
      },
      "execution_count": 21,
      "outputs": [
        {
          "output_type": "stream",
          "name": "stdout",
          "text": [
            "Accuracy: 98.600%\n"
          ]
        }
      ]
    },
    {
      "cell_type": "markdown",
      "source": [
        "As shown above, Adam acheive the best accuracy, and RMSprop and L-BFGS also provide competitive results."
      ],
      "metadata": {
        "id": "EegUj77IWZ0-"
      }
    }
  ],
  "metadata": {
    "accelerator": "GPU",
    "colab": {
      "gpuType": "T4",
      "provenance": []
    },
    "kernelspec": {
      "display_name": "Python 3",
      "name": "python3"
    },
    "language_info": {
      "codemirror_mode": {
        "name": "ipython",
        "version": 3
      },
      "file_extension": ".py",
      "mimetype": "text/x-python",
      "name": "python",
      "nbconvert_exporter": "python",
      "pygments_lexer": "ipython3",
      "version": "3.11.5"
    }
  },
  "nbformat": 4,
  "nbformat_minor": 0
}