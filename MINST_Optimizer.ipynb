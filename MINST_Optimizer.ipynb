{
  "cells": [
    {
      "cell_type": "code",
      "execution_count": 1,
      "metadata": {
        "id": "T1VrgP2-1C4M"
      },
      "outputs": [],
      "source": [
        "import torch\n",
        "import torch.nn as nn\n",
        "import torch.nn.functional as F\n",
        "import torch.utils.data\n",
        "from torch.autograd import Variable\n",
        "import numpy as np\n",
        "from matplotlib import pyplot as plt"
      ]
    },
    {
      "cell_type": "markdown",
      "source": [
        "Fix random seed"
      ],
      "metadata": {
        "id": "K6JU0oKjYqqH"
      }
    },
    {
      "cell_type": "code",
      "source": [
        "import random\n",
        "# Set the seed for Python's built-in random module\n",
        "random_seed = 42\n",
        "random.seed(random_seed)\n",
        "\n",
        "# Set the seed for NumPy\n",
        "np.random.seed(random_seed)\n",
        "\n",
        "# Set the seed for PyTorch\n",
        "torch.manual_seed(random_seed)\n",
        "torch.cuda.manual_seed_all(random_seed)\n",
        "torch.backends.cudnn.deterministic = True\n",
        "torch.backends.cudnn.benchmark = False"
      ],
      "metadata": {
        "id": "T4SCyh49Yp3v"
      },
      "execution_count": 2,
      "outputs": []
    },
    {
      "cell_type": "markdown",
      "metadata": {
        "id": "S2Ht0iPM1C4P"
      },
      "source": [
        "### Loading Dataset"
      ]
    },
    {
      "cell_type": "code",
      "execution_count": 3,
      "metadata": {
        "colab": {
          "base_uri": "https://localhost:8080/",
          "height": 502
        },
        "id": "8VTIGBJk1C4Q",
        "outputId": "ac13cd6a-d993-41b2-8bfb-07bc86f75b9e"
      },
      "outputs": [
        {
          "output_type": "stream",
          "name": "stdout",
          "text": [
            "Downloading data from https://storage.googleapis.com/tensorflow/tf-keras-datasets/mnist.npz\n",
            "11490434/11490434 [==============================] - 0s 0us/step\n",
            "Train: X=(60000, 28, 28), y=(60000,)\n",
            "Test: X=(10000, 28, 28), y=(10000,)\n"
          ]
        },
        {
          "output_type": "display_data",
          "data": {
            "text/plain": [
              "<Figure size 640x480 with 9 Axes>"
            ],
            "image/png": "[encoded data removed]"
          },
          "metadata": {}
        }
      ],
      "source": [
        "from tensorflow.keras.datasets import mnist\n",
        "\n",
        "(X_train, y_train), (X_test, y_test) = mnist.load_data()\n",
        "# print shape\n",
        "print('Train: X=%s, y=%s' % (X_train.shape, y_train.shape))\n",
        "print('Test: X=%s, y=%s' % (X_test.shape, y_test.shape))\n",
        "# plot first few images\n",
        "for i in range(9):\n",
        " plt.subplot(330 + 1 + i)\n",
        " plt.imshow(X_train[i], cmap=plt.get_cmap('gray'))\n",
        "\n",
        "plt.show()"
      ]
    },
    {
      "cell_type": "markdown",
      "metadata": {
        "id": "l4a4jtoT1C4R"
      },
      "source": [
        "### Preprocessing"
      ]
    },
    {
      "cell_type": "code",
      "execution_count": 4,
      "metadata": {
        "colab": {
          "base_uri": "https://localhost:8080/"
        },
        "id": "6yhCj6vf1C4S",
        "outputId": "83c61ca5-335f-47c6-9079-dd513dc8725a"
      },
      "outputs": [
        {
          "output_type": "stream",
          "name": "stdout",
          "text": [
            "torch.Size([60000, 1, 28, 28])\n",
            "torch.Size([10000, 1, 28, 28])\n"
          ]
        }
      ],
      "source": [
        "BATCH_SIZE = 32\n",
        "\n",
        "torch_X_train = torch.from_numpy(X_train).type(torch.LongTensor)\n",
        "torch_y_train = torch.from_numpy(y_train).type(torch.LongTensor) # data type is long\n",
        "\n",
        "# create feature and targets tensor for test set.\n",
        "torch_X_test = torch.from_numpy(X_test).type(torch.LongTensor)\n",
        "torch_y_test = torch.from_numpy(y_test).type(torch.LongTensor) # data type is long\n",
        "\n",
        "torch_X_train = torch_X_train.view(-1, 1,28,28).float()\n",
        "torch_X_test = torch_X_test.view(-1,1,28,28).float()\n",
        "print(torch_X_train.shape)\n",
        "print(torch_X_test.shape)\n",
        "\n",
        "# Pytorch train and test sets\n",
        "train = torch.utils.data.TensorDataset(torch_X_train,torch_y_train)\n",
        "test = torch.utils.data.TensorDataset(torch_X_test,torch_y_test)\n",
        "\n",
        "# data loader\n",
        "train_loader = torch.utils.data.DataLoader(train, batch_size = BATCH_SIZE, shuffle = False)\n",
        "test_loader = torch.utils.data.DataLoader(test, batch_size = BATCH_SIZE, shuffle = False)\n"
      ]
    },
    {
      "cell_type": "markdown",
      "metadata": {
        "id": "41zAlR231C4S"
      },
      "source": [
        "### Create a CNN Model"
      ]
    },
    {
      "cell_type": "code",
      "execution_count": 5,
      "metadata": {
        "id": "lPrV8Y4s1C4T"
      },
      "outputs": [],
      "source": [
        "class CNN(nn.Module):\n",
        "    def __init__(self):\n",
        "        super(CNN, self).__init__()\n",
        "        self.conv1 = nn.Conv2d(1, 32, kernel_size=5)\n",
        "        self.conv2 = nn.Conv2d(32, 32, kernel_size=5)\n",
        "        self.conv3 = nn.Conv2d(32,64, kernel_size=5)\n",
        "        self.fc1 = nn.Linear(3*3*64, 256)\n",
        "        #10 numbers\n",
        "        self.fc2 = nn.Linear(256, 10)\n",
        "\n",
        "    def forward(self, x):\n",
        "        x = self.conv1(x) #1 -> 32\n",
        "        x = F.relu(x)\n",
        "\n",
        "        x = self.conv2(x) #32 -> 32\n",
        "        x = F.max_pool2d(x,2)\n",
        "        x = F.relu(x)\n",
        "        x = F.dropout(x, p=0.5, training=self.training)\n",
        "\n",
        "        x = self.conv3(x) #32 -> 64\n",
        "        x = F.max_pool2d(x,2)\n",
        "        x = F.relu(x)\n",
        "        x = F.dropout(x, p=0.5, training=self.training)\n",
        "\n",
        "        x = x.view(-1,3*3*64 )\n",
        "        x = F.relu(self.fc1(x))\n",
        "        x = F.dropout(x, training=self.training)\n",
        "\n",
        "        x = self.fc2(x)\n",
        "\n",
        "        return F.log_softmax(x, dim=1)\n"
      ]
    },
    {
      "cell_type": "markdown",
      "metadata": {
        "id": "I4EPM2hf1C4U"
      },
      "source": [
        "### Fitting model"
      ]
    },
    {
      "cell_type": "code",
      "execution_count": 37,
      "metadata": {
        "id": "Io5aFLpw1C4U"
      },
      "outputs": [],
      "source": [
        "def fit(model, optimizer, train_loader):\n",
        "    # Use GPU to train\n",
        "    device = torch.device(\"cuda\" if torch.cuda.is_available() else \"cpu\")\n",
        "    model = model.to(device)\n",
        "\n",
        "    criterion = nn.CrossEntropyLoss()\n",
        "    EPOCHS = 20\n",
        "    model.train()\n",
        "    loss_values = []\n",
        "\n",
        "    for epoch in range(EPOCHS):\n",
        "        correct = 0\n",
        "        running_loss = 0.0\n",
        "        total_samples = 0\n",
        "\n",
        "        for batch_idx, (X_batch, y_batch) in enumerate(train_loader):\n",
        "            X_batch, y_batch = X_batch.to(device), y_batch.to(device)\n",
        "\n",
        "            optimizer.zero_grad()\n",
        "            output = model(X_batch)\n",
        "\n",
        "            loss = criterion(output, y_batch)\n",
        "            loss.backward()\n",
        "            optimizer.step()\n",
        "\n",
        "            running_loss += loss.item()\n",
        "\n",
        "            # Calculate training accuracy\n",
        "            _, predicted = torch.max(output.data, 1)\n",
        "            total_samples += y_batch.size(0)\n",
        "            correct += (predicted == y_batch).sum().item()\n",
        "\n",
        "        accuracy = correct / total_samples\n",
        "        epoch_loss = running_loss / len(train_loader)\n",
        "        loss_values.append(epoch_loss)\n",
        "\n",
        "        print('[Epoch %d] Loss: %.3f, Accuracy: %.3f' % (epoch + 1, epoch_loss, accuracy))\n",
        "\n",
        "    return loss_values\n"
      ]
    },
    {
      "cell_type": "code",
      "execution_count": 38,
      "metadata": {
        "colab": {
          "base_uri": "https://localhost:8080/"
        },
        "id": "Nj3lLjLY1C4U",
        "outputId": "1fa5e07a-64a5-4d0d-8bb1-d26b7e371efe"
      },
      "outputs": [
        {
          "output_type": "stream",
          "name": "stdout",
          "text": [
            "[Epoch 1] Loss: 0.393, Accuracy: 0.883\n",
            "[Epoch 2] Loss: 0.183, Accuracy: 0.948\n",
            "[Epoch 3] Loss: 0.169, Accuracy: 0.953\n",
            "[Epoch 4] Loss: 0.162, Accuracy: 0.955\n",
            "[Epoch 5] Loss: 0.149, Accuracy: 0.959\n",
            "[Epoch 6] Loss: 0.148, Accuracy: 0.960\n",
            "[Epoch 7] Loss: 0.145, Accuracy: 0.961\n",
            "[Epoch 8] Loss: 0.135, Accuracy: 0.963\n",
            "[Epoch 9] Loss: 0.139, Accuracy: 0.963\n",
            "[Epoch 10] Loss: 0.135, Accuracy: 0.965\n",
            "[Epoch 11] Loss: 0.132, Accuracy: 0.966\n",
            "[Epoch 12] Loss: 0.130, Accuracy: 0.965\n",
            "[Epoch 13] Loss: 0.127, Accuracy: 0.967\n",
            "[Epoch 14] Loss: 0.137, Accuracy: 0.964\n",
            "[Epoch 15] Loss: 0.132, Accuracy: 0.966\n",
            "[Epoch 16] Loss: 0.129, Accuracy: 0.967\n",
            "[Epoch 17] Loss: 0.126, Accuracy: 0.966\n",
            "[Epoch 18] Loss: 0.124, Accuracy: 0.967\n",
            "[Epoch 19] Loss: 0.127, Accuracy: 0.966\n",
            "[Epoch 20] Loss: 0.121, Accuracy: 0.969\n"
          ]
        }
      ],
      "source": [
        "device = torch.device(\"cuda\" if torch.cuda.is_available() else \"cpu\")\n",
        "\n",
        "cnn_adam = CNN().to(device)\n",
        "Adam = torch.optim.Adam(cnn_adam.parameters(), lr=0.001, betas=(0.9, 0.999))\n",
        "Adam_model = fit(cnn_adam, Adam, train_loader)"
      ]
    },
    {
      "cell_type": "markdown",
      "metadata": {
        "id": "hTWf4dn-f8Ey"
      },
      "source": [
        "Training SGD"
      ]
    },
    {
      "cell_type": "code",
      "execution_count": 39,
      "metadata": {
        "colab": {
          "base_uri": "https://localhost:8080/"
        },
        "id": "ERS3cCIwf7X5",
        "outputId": "1c9b90d5-ed23-436f-be40-111bb1dd7007"
      },
      "outputs": [
        {
          "output_type": "stream",
          "name": "stdout",
          "text": [
            "[Epoch 1] Loss: 1.055, Accuracy: 0.647\n",
            "[Epoch 2] Loss: 0.383, Accuracy: 0.881\n",
            "[Epoch 3] Loss: 0.280, Accuracy: 0.913\n",
            "[Epoch 4] Loss: 0.233, Accuracy: 0.928\n",
            "[Epoch 5] Loss: 0.202, Accuracy: 0.939\n",
            "[Epoch 6] Loss: 0.180, Accuracy: 0.945\n",
            "[Epoch 7] Loss: 0.167, Accuracy: 0.948\n",
            "[Epoch 8] Loss: 0.153, Accuracy: 0.953\n",
            "[Epoch 9] Loss: 0.144, Accuracy: 0.956\n",
            "[Epoch 10] Loss: 0.136, Accuracy: 0.958\n",
            "[Epoch 11] Loss: 0.129, Accuracy: 0.961\n",
            "[Epoch 12] Loss: 0.124, Accuracy: 0.962\n",
            "[Epoch 13] Loss: 0.115, Accuracy: 0.964\n",
            "[Epoch 14] Loss: 0.112, Accuracy: 0.966\n",
            "[Epoch 15] Loss: 0.108, Accuracy: 0.967\n",
            "[Epoch 16] Loss: 0.100, Accuracy: 0.969\n",
            "[Epoch 17] Loss: 0.100, Accuracy: 0.970\n",
            "[Epoch 18] Loss: 0.095, Accuracy: 0.971\n",
            "[Epoch 19] Loss: 0.093, Accuracy: 0.971\n",
            "[Epoch 20] Loss: 0.092, Accuracy: 0.971\n"
          ]
        }
      ],
      "source": [
        "cnn_sgd = CNN().to(device)\n",
        "SGD_optimizer = torch.optim.SGD(cnn_sgd.parameters(), lr=0.001)\n",
        "SGD_model = fit(cnn_sgd, SGD_optimizer, train_loader)"
      ]
    },
    {
      "cell_type": "markdown",
      "source": [
        "Training a couple more popular Alg to compare"
      ],
      "metadata": {
        "id": "jKHpn0NGSxnT"
      }
    },
    {
      "cell_type": "markdown",
      "source": [
        "Adagrad"
      ],
      "metadata": {
        "id": "dbzBGDJqUH8o"
      }
    },
    {
      "cell_type": "code",
      "source": [
        "cnn_Adagrad = CNN().to(device)\n",
        "Adagrad = torch.optim.Adagrad(cnn_Adagrad.parameters(), lr=0.001)\n",
        "Adagrad_model = fit(cnn_Adagrad, Adagrad, train_loader)"
      ],
      "metadata": {
        "id": "j4gSHqRiSw8t",
        "outputId": "b1a7cb0e-73cf-4302-d6b3-1f88c69cd864",
        "colab": {
          "base_uri": "https://localhost:8080/"
        }
      },
      "execution_count": 40,
      "outputs": [
        {
          "output_type": "stream",
          "name": "stdout",
          "text": [
            "[Epoch 1] Loss: 0.852, Accuracy: 0.722\n",
            "[Epoch 2] Loss: 0.381, Accuracy: 0.880\n",
            "[Epoch 3] Loss: 0.292, Accuracy: 0.910\n",
            "[Epoch 4] Loss: 0.245, Accuracy: 0.924\n",
            "[Epoch 5] Loss: 0.223, Accuracy: 0.931\n",
            "[Epoch 6] Loss: 0.202, Accuracy: 0.939\n",
            "[Epoch 7] Loss: 0.186, Accuracy: 0.943\n",
            "[Epoch 8] Loss: 0.178, Accuracy: 0.946\n",
            "[Epoch 9] Loss: 0.169, Accuracy: 0.948\n",
            "[Epoch 10] Loss: 0.154, Accuracy: 0.953\n",
            "[Epoch 11] Loss: 0.151, Accuracy: 0.954\n",
            "[Epoch 12] Loss: 0.148, Accuracy: 0.956\n",
            "[Epoch 13] Loss: 0.139, Accuracy: 0.959\n",
            "[Epoch 14] Loss: 0.134, Accuracy: 0.959\n",
            "[Epoch 15] Loss: 0.133, Accuracy: 0.959\n",
            "[Epoch 16] Loss: 0.127, Accuracy: 0.961\n",
            "[Epoch 17] Loss: 0.126, Accuracy: 0.963\n",
            "[Epoch 18] Loss: 0.121, Accuracy: 0.963\n",
            "[Epoch 19] Loss: 0.117, Accuracy: 0.964\n",
            "[Epoch 20] Loss: 0.116, Accuracy: 0.964\n"
          ]
        }
      ]
    },
    {
      "cell_type": "markdown",
      "source": [
        "RMSprop"
      ],
      "metadata": {
        "id": "P7VYtWJ3UKzq"
      }
    },
    {
      "cell_type": "code",
      "source": [
        "cnn_RMSprop = CNN().to(device)\n",
        "RMSprop = torch.optim.RMSprop(cnn_RMSprop.parameters(), lr=0.001)\n",
        "RMSprop_model = fit(cnn_RMSprop, RMSprop, train_loader)"
      ],
      "metadata": {
        "id": "ElLmS0TaSxEb",
        "outputId": "9216527b-ccd3-4a4a-f396-f3b1dd5b413b",
        "colab": {
          "base_uri": "https://localhost:8080/"
        }
      },
      "execution_count": 41,
      "outputs": [
        {
          "output_type": "stream",
          "name": "stdout",
          "text": [
            "[Epoch 1] Loss: 0.425, Accuracy: 0.890\n",
            "[Epoch 2] Loss: 0.182, Accuracy: 0.951\n",
            "[Epoch 3] Loss: 0.168, Accuracy: 0.956\n",
            "[Epoch 4] Loss: 0.159, Accuracy: 0.958\n",
            "[Epoch 5] Loss: 0.158, Accuracy: 0.959\n",
            "[Epoch 6] Loss: 0.156, Accuracy: 0.960\n",
            "[Epoch 7] Loss: 0.153, Accuracy: 0.961\n",
            "[Epoch 8] Loss: 0.163, Accuracy: 0.959\n",
            "[Epoch 9] Loss: 0.153, Accuracy: 0.962\n",
            "[Epoch 10] Loss: 0.159, Accuracy: 0.961\n",
            "[Epoch 11] Loss: 0.162, Accuracy: 0.962\n",
            "[Epoch 12] Loss: 0.161, Accuracy: 0.962\n",
            "[Epoch 13] Loss: 0.171, Accuracy: 0.961\n",
            "[Epoch 14] Loss: 0.177, Accuracy: 0.958\n",
            "[Epoch 15] Loss: 0.180, Accuracy: 0.957\n",
            "[Epoch 16] Loss: 0.175, Accuracy: 0.958\n",
            "[Epoch 17] Loss: 0.176, Accuracy: 0.958\n",
            "[Epoch 18] Loss: 0.179, Accuracy: 0.958\n",
            "[Epoch 19] Loss: 0.189, Accuracy: 0.956\n",
            "[Epoch 20] Loss: 0.185, Accuracy: 0.958\n"
          ]
        }
      ]
    },
    {
      "cell_type": "markdown",
      "source": [
        "L-BFGS (Approximate Hessian)  \\\n",
        "will not converge as expect (BFGS does not scale well on large dataset)"
      ],
      "metadata": {
        "id": "AMIx_rnZVMPH"
      }
    },
    {
      "cell_type": "code",
      "source": [
        "cnn_LBFGS = CNN().to(device)\n",
        "LBFGS = torch.optim.LBFGS(cnn_LBFGS.parameters(), history_size=20, max_iter=4, lr=0.01)\n",
        "\n",
        "criterion = nn.CrossEntropyLoss()\n",
        "epochs = 20\n",
        "LBFGS_loss = []\n",
        "\n",
        "for epoch in range(epochs):\n",
        "    running_loss = 0.0\n",
        "\n",
        "    for batch_idx, (X_batch, y_batch) in enumerate(train_loader):\n",
        "      X_batch, y_batch = X_batch.to(device), y_batch.to(device)\n",
        "\n",
        "      def closure():\n",
        "        # Zero gradients\n",
        "        LBFGS.zero_grad()\n",
        "        y_pred = cnn_LBFGS(X_batch)\n",
        "        loss = criterion(y_pred, y_batch)\n",
        "        loss.backward()\n",
        "        return loss\n",
        "\n",
        "      LBFGS.step(closure)\n",
        "      loss = closure()\n",
        "      running_loss += loss.item()\n",
        "\n",
        "    epoch_loss = running_loss / len(train_loader)\n",
        "    LBFGS_loss.append(epoch_loss)\n",
        "\n",
        "    print('[Epoch %d] Loss: %.3f' % (epoch + 1, epoch_loss))"
      ],
      "metadata": {
        "id": "hyUKS2mkSxHC",
        "outputId": "ae14dfcb-d122-4589-fff2-b5e1883af69f",
        "colab": {
          "base_uri": "https://localhost:8080/"
        }
      },
      "execution_count": 53,
      "outputs": [
        {
          "output_type": "stream",
          "name": "stdout",
          "text": [
            "[Epoch 1] Loss: 14.574\n",
            "[Epoch 2] Loss: 14.630\n",
            "[Epoch 3] Loss: 14.502\n",
            "[Epoch 4] Loss: 14.560\n",
            "[Epoch 5] Loss: 14.554\n",
            "[Epoch 6] Loss: 14.577\n",
            "[Epoch 7] Loss: 14.509\n",
            "[Epoch 8] Loss: 14.589\n",
            "[Epoch 9] Loss: 14.529\n",
            "[Epoch 10] Loss: 14.550\n",
            "[Epoch 11] Loss: 14.555\n",
            "[Epoch 12] Loss: 14.499\n",
            "[Epoch 13] Loss: 14.539\n",
            "[Epoch 14] Loss: 14.536\n",
            "[Epoch 15] Loss: 14.608\n",
            "[Epoch 16] Loss: 14.535\n",
            "[Epoch 17] Loss: 14.533\n",
            "[Epoch 18] Loss: 14.517\n",
            "[Epoch 19] Loss: 14.574\n",
            "[Epoch 20] Loss: 14.569\n"
          ]
        }
      ]
    },
    {
      "cell_type": "markdown",
      "metadata": {
        "id": "RWJTwsi4hprD"
      },
      "source": [
        "Plot Training Loss"
      ]
    },
    {
      "cell_type": "code",
      "execution_count": 55,
      "metadata": {
        "colab": {
          "base_uri": "https://localhost:8080/",
          "height": 472
        },
        "id": "niVdUHhp1C4U",
        "outputId": "0eecc032-22bc-4888-a856-b951de998c62"
      },
      "outputs": [
        {
          "output_type": "display_data",
          "data": {
            "text/plain": [
              "<Figure size 640x480 with 1 Axes>"
            ],
            "image/png": "[encoded data removed]"
          },
          "metadata": {}
        }
      ],
      "source": [
        "plt.plot(Adam_model, label='Adam')\n",
        "plt.plot(SGD_model,label='SGD')\n",
        "plt.plot(Adagrad_model,label='Adagrad')\n",
        "plt.plot(RMSprop_model,label='RMSprop')\n",
        "#plt.plot(LBFGS_loss,label='L-BFGS')\n",
        "\n",
        "plt.xlabel('Epoch')\n",
        "plt.ylabel('Training Loss')\n",
        "plt.title('Training Loss over Epoches')\n",
        "plt.legend()\n",
        "plt.show()"
      ]
    },
    {
      "cell_type": "code",
      "execution_count": null,
      "metadata": {
        "id": "YDpEh0QP6wXx"
      },
      "outputs": [],
      "source": [
        "def evaluate(model):\n",
        "  model.eval()\n",
        "  correct = 0\n",
        "\n",
        "  with torch.no_grad():\n",
        "    for test_imgs, test_labels in test_loader:\n",
        "        test_imgs, test_labels = test_imgs.to(device), test_labels.to(device)\n",
        "        test_imgs = Variable(test_imgs).float()\n",
        "        output = model(test_imgs)\n",
        "        #calculate accuracy\n",
        "        predicted = torch.max(output,1)[1]\n",
        "        correct += (predicted == test_labels).sum()\n",
        "\n",
        "    accuracy = correct / (len(test_loader.dataset))\n",
        "    print(\"Accuracy: {:.3f}%\".format(accuracy * 100))\n"
      ]
    },
    {
      "cell_type": "code",
      "execution_count": null,
      "metadata": {
        "colab": {
          "base_uri": "https://localhost:8080/"
        },
        "id": "Iw10_BWs6x4A",
        "outputId": "bfc56677-0421-43dc-9b51-753cc9c931ae"
      },
      "outputs": [
        {
          "output_type": "stream",
          "name": "stdout",
          "text": [
            "Accuracy: 98.700%\n"
          ]
        }
      ],
      "source": [
        "evaluate(cnn_adam)\n"
      ]
    },
    {
      "cell_type": "code",
      "execution_count": null,
      "metadata": {
        "colab": {
          "base_uri": "https://localhost:8080/"
        },
        "id": "cCkylVI7hZx1",
        "outputId": "50aed8b3-aa35-4ad6-df2e-006677a28748"
      },
      "outputs": [
        {
          "output_type": "stream",
          "name": "stdout",
          "text": [
            "Accuracy: 99.120%\n"
          ]
        }
      ],
      "source": [
        "evaluate(cnn_sgd)"
      ]
    },
    {
      "cell_type": "code",
      "execution_count": null,
      "metadata": {
        "id": "eTjrh_TpjNLu",
        "outputId": "0290d656-3f1a-4e3c-9f9a-829de3ec1a0c",
        "colab": {
          "base_uri": "https://localhost:8080/"
        }
      },
      "outputs": [
        {
          "output_type": "stream",
          "name": "stdout",
          "text": [
            "Accuracy: 98.230%\n"
          ]
        }
      ],
      "source": [
        "evaluate(cnn_RMSprop)"
      ]
    },
    {
      "cell_type": "code",
      "source": [
        "evaluate(cnn_Adagrad)"
      ],
      "metadata": {
        "id": "ICOQznZRf1oG",
        "outputId": "13fb8584-2c56-4bb9-8dcf-52e7f8c23b9b",
        "colab": {
          "base_uri": "https://localhost:8080/"
        }
      },
      "execution_count": null,
      "outputs": [
        {
          "output_type": "stream",
          "name": "stdout",
          "text": [
            "Accuracy: 98.730%\n"
          ]
        }
      ]
    }
  ],
  "metadata": {
    "accelerator": "GPU",
    "colab": {
      "gpuType": "T4",
      "provenance": []
    },
    "kernelspec": {
      "display_name": "Python 3",
      "name": "python3"
    },
    "language_info": {
      "codemirror_mode": {
        "name": "ipython",
        "version": 3
      },
      "file_extension": ".py",
      "mimetype": "text/x-python",
      "name": "python",
      "nbconvert_exporter": "python",
      "pygments_lexer": "ipython3",
      "version": "3.11.5"
    }
  },
  "nbformat": 4,
  "nbformat_minor": 0
}