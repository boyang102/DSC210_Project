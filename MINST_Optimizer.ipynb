{
  "cells": [
    {
      "cell_type": "code",
      "execution_count": 3,
      "metadata": {
        "id": "T1VrgP2-1C4M"
      },
      "outputs": [],
      "source": [
        "import torch\n",
        "import torch.nn as nn\n",
        "import torch.nn.functional as F\n",
        "import torch.utils.data\n",
        "from torch.autograd import Variable"
      ]
    },
    {
      "cell_type": "markdown",
      "metadata": {
        "id": "S2Ht0iPM1C4P"
      },
      "source": [
        "### Loading Dataset"
      ]
    },
    {
      "cell_type": "code",
      "execution_count": 4,
      "metadata": {
        "colab": {
          "base_uri": "https://localhost:8080/",
          "height": 502
        },
        "id": "8VTIGBJk1C4Q",
        "outputId": "18094cb8-9155-4ce7-f3fc-076708dc39c6"
      },
      "outputs": [
        {
          "name": "stdout",
          "output_type": "stream",
          "text": [
            "Downloading data from https://storage.googleapis.com/tensorflow/tf-keras-datasets/mnist.npz\n",
            "11490434/11490434 [==============================] - 1s 0us/step\n",
            "Train: X=(60000, 28, 28), y=(60000,)\n",
            "Test: X=(10000, 28, 28), y=(10000,)\n"
          ]
        },
        {
          "data": {
            "image/png": "[encoded data removed]",
            "text/plain": [
              "<Figure size 640x480 with 9 Axes>"
            ]
          },
          "metadata": {},
          "output_type": "display_data"
        }
      ],
      "source": [
        "from tensorflow.keras.datasets import mnist\n",
        "from matplotlib import pyplot as plt\n",
        "\n",
        "(X_train, y_train), (X_test, y_test) = mnist.load_data()\n",
        "# print shape\n",
        "print('Train: X=%s, y=%s' % (X_train.shape, y_train.shape))\n",
        "print('Test: X=%s, y=%s' % (X_test.shape, y_test.shape))\n",
        "# plot first few images\n",
        "for i in range(9):\n",
        " plt.subplot(330 + 1 + i)\n",
        " plt.imshow(X_train[i], cmap=plt.get_cmap('gray'))\n",
        "\n",
        "plt.show()"
      ]
    },
    {
      "cell_type": "markdown",
      "metadata": {
        "id": "l4a4jtoT1C4R"
      },
      "source": [
        "### Preprocessing"
      ]
    },
    {
      "cell_type": "code",
      "execution_count": 5,
      "metadata": {
        "colab": {
          "base_uri": "https://localhost:8080/"
        },
        "id": "6yhCj6vf1C4S",
        "outputId": "74f5490e-d568-4983-8f14-22138287f037"
      },
      "outputs": [
        {
          "name": "stdout",
          "output_type": "stream",
          "text": [
            "torch.Size([60000, 1, 28, 28])\n",
            "torch.Size([10000, 1, 28, 28])\n"
          ]
        }
      ],
      "source": [
        "BATCH_SIZE = 32\n",
        "\n",
        "torch_X_train = torch.from_numpy(X_train).type(torch.LongTensor)\n",
        "torch_y_train = torch.from_numpy(y_train).type(torch.LongTensor) # data type is long\n",
        "\n",
        "# create feature and targets tensor for test set.\n",
        "torch_X_test = torch.from_numpy(X_test).type(torch.LongTensor)\n",
        "torch_y_test = torch.from_numpy(y_test).type(torch.LongTensor) # data type is long\n",
        "\n",
        "torch_X_train = torch_X_train.view(-1, 1,28,28).float()\n",
        "torch_X_test = torch_X_test.view(-1,1,28,28).float()\n",
        "print(torch_X_train.shape)\n",
        "print(torch_X_test.shape)\n",
        "\n",
        "# Pytorch train and test sets\n",
        "train = torch.utils.data.TensorDataset(torch_X_train,torch_y_train)\n",
        "test = torch.utils.data.TensorDataset(torch_X_test,torch_y_test)\n",
        "\n",
        "# data loader\n",
        "train_loader = torch.utils.data.DataLoader(train, batch_size = BATCH_SIZE, shuffle = False)\n",
        "test_loader = torch.utils.data.DataLoader(test, batch_size = BATCH_SIZE, shuffle = False)\n"
      ]
    },
    {
      "cell_type": "markdown",
      "metadata": {
        "id": "41zAlR231C4S"
      },
      "source": [
        "### Create a CNN Model"
      ]
    },
    {
      "cell_type": "code",
      "execution_count": 6,
      "metadata": {
        "id": "lPrV8Y4s1C4T"
      },
      "outputs": [],
      "source": [
        "class CNN(nn.Module):\n",
        "    def __init__(self):\n",
        "        super(CNN, self).__init__()\n",
        "        self.conv1 = nn.Conv2d(1, 32, kernel_size=5)\n",
        "        self.conv2 = nn.Conv2d(32, 32, kernel_size=5)\n",
        "        self.conv3 = nn.Conv2d(32,64, kernel_size=5)\n",
        "        self.fc1 = nn.Linear(3*3*64, 256)\n",
        "        #10 numbers\n",
        "        self.fc2 = nn.Linear(256, 10)\n",
        "\n",
        "    def forward(self, x):\n",
        "        x = self.conv1(x) #1 -> 32\n",
        "        x = F.relu(x)\n",
        "\n",
        "        x = self.conv2(x) #32 -> 32\n",
        "        x = F.max_pool2d(x,2)\n",
        "        x = F.relu(x)\n",
        "        x = F.dropout(x, p=0.5, training=self.training)\n",
        "\n",
        "        x = self.conv3(x) #32 -> 64\n",
        "        x = F.max_pool2d(x,2)\n",
        "        x = F.relu(x)\n",
        "        x = F.dropout(x, p=0.5, training=self.training)\n",
        "\n",
        "        x = x.view(-1,3*3*64 )\n",
        "        x = F.relu(self.fc1(x))\n",
        "        x = F.dropout(x, training=self.training)\n",
        "\n",
        "        x = self.fc2(x)\n",
        "\n",
        "        return F.log_softmax(x, dim=1)\n"
      ]
    },
    {
      "cell_type": "markdown",
      "metadata": {
        "id": "I4EPM2hf1C4U"
      },
      "source": [
        "### Fitting model"
      ]
    },
    {
      "cell_type": "code",
      "execution_count": 14,
      "metadata": {
        "id": "Io5aFLpw1C4U"
      },
      "outputs": [],
      "source": [
        "def fit(model, optimizer, train_loader):\n",
        "    # Use GPU to train\n",
        "    device = torch.device(\"cuda\" if torch.cuda.is_available() else \"cpu\")\n",
        "    model = model.to(device)\n",
        "\n",
        "    criterion = nn.CrossEntropyLoss()\n",
        "    EPOCHS = 20\n",
        "    model.train()\n",
        "    loss_values = []\n",
        "\n",
        "    for epoch in range(EPOCHS):\n",
        "        correct = 0\n",
        "        running_loss = 0.0\n",
        "        total_samples = 0\n",
        "\n",
        "        for batch_idx, (X_batch, y_batch) in enumerate(train_loader):\n",
        "            X_batch, y_batch = X_batch.to(device), y_batch.to(device)\n",
        "\n",
        "            optimizer.zero_grad()\n",
        "            output = model(X_batch)\n",
        "\n",
        "            loss = criterion(output, y_batch)\n",
        "            loss.backward()\n",
        "            optimizer.step()\n",
        "\n",
        "            running_loss += loss.item()\n",
        "\n",
        "            # Calculate training accuracy\n",
        "            _, predicted = torch.max(output.data, 1)\n",
        "            total_samples += y_batch.size(0)\n",
        "            correct += (predicted == y_batch).sum().item()\n",
        "\n",
        "        accuracy = correct / total_samples\n",
        "        epoch_loss = running_loss / len(train_loader)\n",
        "        loss_values.append(epoch_loss)\n",
        "\n",
        "        print('[Epoch %d] Loss: %.3f, Accuracy: %.3f' % (epoch + 1, epoch_loss, accuracy))\n",
        "\n",
        "    return loss_values\n"
      ]
    },
    {
      "cell_type": "code",
      "execution_count": 15,
      "metadata": {
        "colab": {
          "base_uri": "https://localhost:8080/"
        },
        "id": "Nj3lLjLY1C4U",
        "outputId": "f015fa3b-ca3d-4eb6-9334-521518260c86"
      },
      "outputs": [
        {
          "name": "stdout",
          "output_type": "stream",
          "text": [
            "[Epoch 1] Loss: 0.404, Accuracy: 0.879\n",
            "[Epoch 2] Loss: 0.187, Accuracy: 0.946\n",
            "[Epoch 3] Loss: 0.166, Accuracy: 0.954\n",
            "[Epoch 4] Loss: 0.153, Accuracy: 0.958\n",
            "[Epoch 5] Loss: 0.153, Accuracy: 0.959\n",
            "[Epoch 6] Loss: 0.150, Accuracy: 0.961\n",
            "[Epoch 7] Loss: 0.150, Accuracy: 0.961\n",
            "[Epoch 8] Loss: 0.142, Accuracy: 0.963\n",
            "[Epoch 9] Loss: 0.150, Accuracy: 0.962\n",
            "[Epoch 10] Loss: 0.146, Accuracy: 0.963\n",
            "[Epoch 11] Loss: 0.150, Accuracy: 0.962\n",
            "[Epoch 12] Loss: 0.146, Accuracy: 0.964\n",
            "[Epoch 13] Loss: 0.144, Accuracy: 0.965\n",
            "[Epoch 14] Loss: 0.138, Accuracy: 0.966\n",
            "[Epoch 15] Loss: 0.148, Accuracy: 0.964\n",
            "[Epoch 16] Loss: 0.143, Accuracy: 0.964\n",
            "[Epoch 17] Loss: 0.140, Accuracy: 0.966\n",
            "[Epoch 18] Loss: 0.151, Accuracy: 0.963\n",
            "[Epoch 19] Loss: 0.139, Accuracy: 0.966\n",
            "[Epoch 20] Loss: 0.147, Accuracy: 0.965\n"
          ]
        }
      ],
      "source": [
        "device = torch.device(\"cuda\" if torch.cuda.is_available() else \"cpu\")\n",
        "\n",
        "cnn = CNN().to(device)\n",
        "Adam = torch.optim.Adam(cnn.parameters(), lr=0.001, betas=(0.9, 0.999))\n",
        "Adam_model = fit(cnn, Adam, train_loader)"
      ]
    },
    {
      "cell_type": "markdown",
      "metadata": {
        "id": "hTWf4dn-f8Ey"
      },
      "source": [
        "Training SGD"
      ]
    },
    {
      "cell_type": "code",
      "execution_count": 28,
      "metadata": {
        "colab": {
          "base_uri": "https://localhost:8080/"
        },
        "id": "ERS3cCIwf7X5",
        "outputId": "a7634272-01a6-408a-bd26-038cdf7c19e9"
      },
      "outputs": [
        {
          "name": "stdout",
          "output_type": "stream",
          "text": [
            "[Epoch 1] Loss: 1.131, Accuracy: 0.620\n",
            "[Epoch 2] Loss: 0.438, Accuracy: 0.864\n",
            "[Epoch 3] Loss: 0.298, Accuracy: 0.909\n",
            "[Epoch 4] Loss: 0.245, Accuracy: 0.926\n",
            "[Epoch 5] Loss: 0.210, Accuracy: 0.938\n",
            "[Epoch 6] Loss: 0.185, Accuracy: 0.944\n",
            "[Epoch 7] Loss: 0.171, Accuracy: 0.948\n",
            "[Epoch 8] Loss: 0.155, Accuracy: 0.954\n",
            "[Epoch 9] Loss: 0.147, Accuracy: 0.956\n",
            "[Epoch 10] Loss: 0.135, Accuracy: 0.959\n",
            "[Epoch 11] Loss: 0.132, Accuracy: 0.961\n",
            "[Epoch 12] Loss: 0.127, Accuracy: 0.961\n",
            "[Epoch 13] Loss: 0.117, Accuracy: 0.965\n",
            "[Epoch 14] Loss: 0.115, Accuracy: 0.965\n",
            "[Epoch 15] Loss: 0.111, Accuracy: 0.967\n",
            "[Epoch 16] Loss: 0.106, Accuracy: 0.967\n",
            "[Epoch 17] Loss: 0.102, Accuracy: 0.969\n",
            "[Epoch 18] Loss: 0.098, Accuracy: 0.971\n",
            "[Epoch 19] Loss: 0.097, Accuracy: 0.970\n",
            "[Epoch 20] Loss: 0.090, Accuracy: 0.973\n"
          ]
        }
      ],
      "source": [
        "cnn_sgd = CNN().to(device)\n",
        "SGD_optimizer = torch.optim.SGD(cnn_sgd.parameters(), lr=0.001)\n",
        "SGD_model = fit(cnn_sgd, SGD_optimizer, train_loader)"
      ]
    },
    {
      "cell_type": "markdown",
      "metadata": {
        "id": "RWJTwsi4hprD"
      },
      "source": [
        "Plot Training Loss"
      ]
    },
    {
      "cell_type": "code",
      "execution_count": 29,
      "metadata": {
        "colab": {
          "base_uri": "https://localhost:8080/",
          "height": 472
        },
        "id": "niVdUHhp1C4U",
        "outputId": "a78d8ea6-25ac-4945-b972-9d0edd034ac9"
      },
      "outputs": [
        {
          "data": {
            "image/png": "[encoded data removed]",
            "text/plain": [
              "<Figure size 640x480 with 1 Axes>"
            ]
          },
          "metadata": {},
          "output_type": "display_data"
        }
      ],
      "source": [
        "plt.plot(Adam_model, label='CNN w/ Adam')\n",
        "plt.plot(SGD_model,label='CNN w/ SGD')\n",
        "plt.xlabel('Epoch')\n",
        "plt.ylabel('Training Loss')\n",
        "plt.title('Training Loss over Epoches')\n",
        "plt.legend()\n",
        "plt.show()"
      ]
    },
    {
      "cell_type": "code",
      "execution_count": 24,
      "metadata": {
        "id": "YDpEh0QP6wXx"
      },
      "outputs": [],
      "source": [
        "def evaluate(model):\n",
        "    correct = 0\n",
        "    for test_imgs, test_labels in test_loader:\n",
        "        test_imgs, test_labels = test_imgs.to(device), test_labels.to(device)\n",
        "        test_imgs = Variable(test_imgs).float()\n",
        "        output = model(test_imgs)\n",
        "        predicted = torch.max(output,1)[1]\n",
        "        correct += (predicted == test_labels).sum()\n",
        "    print(\"Test accuracy:{:.3f}% \".format( float(correct) / (len(test_loader)*BATCH_SIZE)))"
      ]
    },
    {
      "cell_type": "code",
      "execution_count": 31,
      "metadata": {
        "colab": {
          "base_uri": "https://localhost:8080/"
        },
        "id": "Iw10_BWs6x4A",
        "outputId": "db091643-4c85-4d54-ed36-5e44a29b008f"
      },
      "outputs": [
        {
          "name": "stdout",
          "output_type": "stream",
          "text": [
            "Test accuracy:0.986% \n"
          ]
        }
      ],
      "source": [
        "evaluate(cnn)"
      ]
    },
    {
      "cell_type": "code",
      "execution_count": 30,
      "metadata": {
        "colab": {
          "base_uri": "https://localhost:8080/"
        },
        "id": "cCkylVI7hZx1",
        "outputId": "ea18cd40-af45-4969-863b-d17472f7ab5f"
      },
      "outputs": [
        {
          "name": "stdout",
          "output_type": "stream",
          "text": [
            "Test accuracy:0.970% \n"
          ]
        }
      ],
      "source": [
        "evaluate(cnn_sgd)"
      ]
    },
    {
      "cell_type": "markdown",
      "metadata": {
        "id": "zQTEGAU6jNrq"
      },
      "source": [
        "Exploring Adam Learning Rate"
      ]
    },
    {
      "cell_type": "code",
      "execution_count": 32,
      "metadata": {
        "colab": {
          "base_uri": "https://localhost:8080/",
          "height": 1000
        },
        "id": "EpR9lPcdjNHd",
        "outputId": "b870a522-0448-4de7-9a9e-b956678f8a8f"
      },
      "outputs": [
        {
          "name": "stdout",
          "output_type": "stream",
          "text": [
            "[Epoch 1] Loss: 0.958, Accuracy: 0.712\n",
            "[Epoch 2] Loss: 0.221, Accuracy: 0.933\n",
            "[Epoch 3] Loss: 0.142, Accuracy: 0.956\n",
            "[Epoch 4] Loss: 0.113, Accuracy: 0.965\n",
            "[Epoch 5] Loss: 0.094, Accuracy: 0.971\n",
            "[Epoch 6] Loss: 0.083, Accuracy: 0.975\n",
            "[Epoch 7] Loss: 0.076, Accuracy: 0.977\n",
            "[Epoch 8] Loss: 0.071, Accuracy: 0.979\n",
            "[Epoch 9] Loss: 0.061, Accuracy: 0.982\n",
            "[Epoch 10] Loss: 0.057, Accuracy: 0.983\n",
            "[Epoch 11] Loss: 0.054, Accuracy: 0.983\n",
            "[Epoch 12] Loss: 0.054, Accuracy: 0.983\n",
            "[Epoch 13] Loss: 0.050, Accuracy: 0.985\n",
            "[Epoch 14] Loss: 0.048, Accuracy: 0.986\n",
            "[Epoch 15] Loss: 0.045, Accuracy: 0.986\n",
            "[Epoch 16] Loss: 0.043, Accuracy: 0.987\n",
            "[Epoch 17] Loss: 0.042, Accuracy: 0.987\n",
            "[Epoch 18] Loss: 0.040, Accuracy: 0.987\n",
            "[Epoch 19] Loss: 0.039, Accuracy: 0.988\n",
            "[Epoch 20] Loss: 0.038, Accuracy: 0.988\n",
            "[Epoch 1] Loss: 0.039, Accuracy: 0.988\n",
            "[Epoch 2] Loss: 0.038, Accuracy: 0.988\n",
            "[Epoch 3] Loss: 0.036, Accuracy: 0.989\n",
            "[Epoch 4] Loss: 0.033, Accuracy: 0.990\n",
            "[Epoch 5] Loss: 0.033, Accuracy: 0.990\n",
            "[Epoch 6] Loss: 0.034, Accuracy: 0.989\n",
            "[Epoch 7] Loss: 0.033, Accuracy: 0.990\n",
            "[Epoch 8] Loss: 0.032, Accuracy: 0.990\n",
            "[Epoch 9] Loss: 0.032, Accuracy: 0.990\n",
            "[Epoch 10] Loss: 0.029, Accuracy: 0.991\n",
            "[Epoch 11] Loss: 0.030, Accuracy: 0.991\n",
            "[Epoch 12] Loss: 0.028, Accuracy: 0.991\n",
            "[Epoch 13] Loss: 0.029, Accuracy: 0.991\n",
            "[Epoch 14] Loss: 0.028, Accuracy: 0.991\n",
            "[Epoch 15] Loss: 0.027, Accuracy: 0.991\n",
            "[Epoch 16] Loss: 0.026, Accuracy: 0.992\n",
            "[Epoch 17] Loss: 0.028, Accuracy: 0.991\n",
            "[Epoch 18] Loss: 0.027, Accuracy: 0.991\n",
            "[Epoch 19] Loss: 0.027, Accuracy: 0.991\n",
            "[Epoch 20] Loss: 0.026, Accuracy: 0.992\n",
            "[Epoch 1] Loss: 0.396, Accuracy: 0.883\n",
            "[Epoch 2] Loss: 0.192, Accuracy: 0.945\n",
            "[Epoch 3] Loss: 0.165, Accuracy: 0.955\n",
            "[Epoch 4] Loss: 0.160, Accuracy: 0.956\n",
            "[Epoch 5] Loss: 0.157, Accuracy: 0.957\n",
            "[Epoch 6] Loss: 0.157, Accuracy: 0.959\n",
            "[Epoch 7] Loss: 0.148, Accuracy: 0.960\n",
            "[Epoch 8] Loss: 0.151, Accuracy: 0.960\n",
            "[Epoch 9] Loss: 0.144, Accuracy: 0.962\n",
            "[Epoch 10] Loss: 0.146, Accuracy: 0.963\n",
            "[Epoch 11] Loss: 0.142, Accuracy: 0.963\n",
            "[Epoch 12] Loss: 0.135, Accuracy: 0.965\n",
            "[Epoch 13] Loss: 0.140, Accuracy: 0.963\n",
            "[Epoch 14] Loss: 0.134, Accuracy: 0.966\n",
            "[Epoch 15] Loss: 0.132, Accuracy: 0.966\n",
            "[Epoch 16] Loss: 0.134, Accuracy: 0.965\n",
            "[Epoch 17] Loss: 0.139, Accuracy: 0.965\n",
            "[Epoch 18] Loss: 0.132, Accuracy: 0.967\n",
            "[Epoch 19] Loss: 0.134, Accuracy: 0.966\n",
            "[Epoch 20] Loss: 0.129, Accuracy: 0.966\n",
            "[Epoch 1] Loss: 0.126, Accuracy: 0.967\n",
            "[Epoch 2] Loss: 0.131, Accuracy: 0.966\n",
            "[Epoch 3] Loss: 0.126, Accuracy: 0.966\n",
            "[Epoch 4] Loss: 0.126, Accuracy: 0.968\n",
            "[Epoch 5] Loss: 0.131, Accuracy: 0.967\n",
            "[Epoch 6] Loss: 0.120, Accuracy: 0.969\n",
            "[Epoch 7] Loss: 0.124, Accuracy: 0.969\n",
            "[Epoch 8] Loss: 0.127, Accuracy: 0.968\n",
            "[Epoch 9] Loss: 0.133, Accuracy: 0.966\n",
            "[Epoch 10] Loss: 0.126, Accuracy: 0.968\n",
            "[Epoch 11] Loss: 0.115, Accuracy: 0.970\n",
            "[Epoch 12] Loss: 0.126, Accuracy: 0.968\n",
            "[Epoch 13] Loss: 0.137, Accuracy: 0.964\n",
            "[Epoch 14] Loss: 0.125, Accuracy: 0.968\n",
            "[Epoch 15] Loss: 0.125, Accuracy: 0.969\n",
            "[Epoch 16] Loss: 0.126, Accuracy: 0.967\n",
            "[Epoch 17] Loss: 0.135, Accuracy: 0.967\n",
            "[Epoch 18] Loss: 0.129, Accuracy: 0.967\n",
            "[Epoch 19] Loss: 0.138, Accuracy: 0.964\n",
            "[Epoch 20] Loss: 0.123, Accuracy: 0.969\n",
            "[Epoch 1] Loss: 2.404, Accuracy: 0.111\n",
            "[Epoch 2] Loss: 2.302, Accuracy: 0.111\n",
            "[Epoch 3] Loss: 2.302, Accuracy: 0.111\n",
            "[Epoch 4] Loss: 2.302, Accuracy: 0.111\n",
            "[Epoch 5] Loss: 2.302, Accuracy: 0.111\n",
            "[Epoch 6] Loss: 2.302, Accuracy: 0.111\n",
            "[Epoch 7] Loss: 2.302, Accuracy: 0.111\n",
            "[Epoch 8] Loss: 2.302, Accuracy: 0.111\n",
            "[Epoch 9] Loss: 2.592, Accuracy: 0.111\n",
            "[Epoch 10] Loss: 2.529, Accuracy: 0.111\n",
            "[Epoch 11] Loss: 2.302, Accuracy: 0.111\n",
            "[Epoch 12] Loss: 2.302, Accuracy: 0.111\n",
            "[Epoch 13] Loss: 2.302, Accuracy: 0.111\n",
            "[Epoch 14] Loss: 2.302, Accuracy: 0.111\n",
            "[Epoch 15] Loss: 2.302, Accuracy: 0.111\n",
            "[Epoch 16] Loss: 2.302, Accuracy: 0.111\n",
            "[Epoch 17] Loss: 2.302, Accuracy: 0.111\n",
            "[Epoch 18] Loss: 2.302, Accuracy: 0.111\n",
            "[Epoch 19] Loss: 2.302, Accuracy: 0.111\n",
            "[Epoch 20] Loss: 2.302, Accuracy: 0.111\n",
            "[Epoch 1] Loss: 2.302, Accuracy: 0.111\n",
            "[Epoch 2] Loss: 2.302, Accuracy: 0.111\n",
            "[Epoch 3] Loss: 2.302, Accuracy: 0.111\n",
            "[Epoch 4] Loss: 2.302, Accuracy: 0.111\n",
            "[Epoch 5] Loss: 2.302, Accuracy: 0.111\n",
            "[Epoch 6] Loss: 2.302, Accuracy: 0.111\n",
            "[Epoch 7] Loss: 2.302, Accuracy: 0.111\n",
            "[Epoch 8] Loss: 2.302, Accuracy: 0.111\n",
            "[Epoch 9] Loss: 2.302, Accuracy: 0.111\n",
            "[Epoch 10] Loss: 2.302, Accuracy: 0.111\n",
            "[Epoch 11] Loss: 2.302, Accuracy: 0.111\n",
            "[Epoch 12] Loss: 2.302, Accuracy: 0.111\n",
            "[Epoch 13] Loss: 2.302, Accuracy: 0.111\n",
            "[Epoch 14] Loss: 2.302, Accuracy: 0.111\n",
            "[Epoch 15] Loss: 2.302, Accuracy: 0.111\n",
            "[Epoch 16] Loss: 2.302, Accuracy: 0.111\n",
            "[Epoch 17] Loss: 2.302, Accuracy: 0.111\n",
            "[Epoch 18] Loss: 2.302, Accuracy: 0.111\n",
            "[Epoch 19] Loss: 2.302, Accuracy: 0.111\n",
            "[Epoch 20] Loss: 2.302, Accuracy: 0.111\n",
            "[Epoch 1] Loss: 255.178, Accuracy: 0.101\n",
            "[Epoch 2] Loss: 14.326, Accuracy: 0.102\n",
            "[Epoch 3] Loss: 2.310, Accuracy: 0.102\n",
            "[Epoch 4] Loss: 2.310, Accuracy: 0.102\n",
            "[Epoch 5] Loss: 2.310, Accuracy: 0.102\n",
            "[Epoch 6] Loss: 2.310, Accuracy: 0.102\n",
            "[Epoch 7] Loss: 2.310, Accuracy: 0.102\n",
            "[Epoch 8] Loss: 580.057, Accuracy: 0.102\n",
            "[Epoch 9] Loss: 2.310, Accuracy: 0.102\n",
            "[Epoch 10] Loss: 2.310, Accuracy: 0.102\n",
            "[Epoch 11] Loss: 2.310, Accuracy: 0.102\n",
            "[Epoch 12] Loss: 2.310, Accuracy: 0.102\n",
            "[Epoch 13] Loss: 2.310, Accuracy: 0.102\n",
            "[Epoch 14] Loss: 2.310, Accuracy: 0.102\n",
            "[Epoch 15] Loss: 2.310, Accuracy: 0.102\n",
            "[Epoch 16] Loss: 2.310, Accuracy: 0.102\n",
            "[Epoch 17] Loss: 2.310, Accuracy: 0.102\n",
            "[Epoch 18] Loss: 2.310, Accuracy: 0.102\n",
            "[Epoch 19] Loss: 2.310, Accuracy: 0.102\n",
            "[Epoch 20] Loss: 2.310, Accuracy: 0.102\n",
            "[Epoch 1] Loss: 2.310, Accuracy: 0.102\n",
            "[Epoch 2] Loss: 2.310, Accuracy: 0.102\n",
            "[Epoch 3] Loss: 2.310, Accuracy: 0.102\n",
            "[Epoch 4] Loss: 2.310, Accuracy: 0.102\n",
            "[Epoch 5] Loss: 2.310, Accuracy: 0.102\n",
            "[Epoch 6] Loss: 2.310, Accuracy: 0.102\n",
            "[Epoch 7] Loss: 2.310, Accuracy: 0.102\n",
            "[Epoch 8] Loss: 2.310, Accuracy: 0.102\n",
            "[Epoch 9] Loss: 2.310, Accuracy: 0.102\n",
            "[Epoch 10] Loss: 2.310, Accuracy: 0.102\n",
            "[Epoch 11] Loss: 2.310, Accuracy: 0.102\n",
            "[Epoch 12] Loss: 2.310, Accuracy: 0.102\n",
            "[Epoch 13] Loss: 2.310, Accuracy: 0.102\n",
            "[Epoch 14] Loss: 2.310, Accuracy: 0.102\n",
            "[Epoch 15] Loss: 2.310, Accuracy: 0.102\n",
            "[Epoch 16] Loss: 2.310, Accuracy: 0.102\n",
            "[Epoch 17] Loss: 2.310, Accuracy: 0.102\n",
            "[Epoch 18] Loss: 2.310, Accuracy: 0.102\n",
            "[Epoch 19] Loss: 2.310, Accuracy: 0.102\n",
            "[Epoch 20] Loss: 2.310, Accuracy: 0.102\n"
          ]
        },
        {
          "data": {
            "image/png": "[encoded data removed]",
            "text/plain": [
              "<Figure size 640x480 with 1 Axes>"
            ]
          },
          "metadata": {},
          "output_type": "display_data"
        }
      ],
      "source": [
        "all_loss_values = []\n",
        "learning_rates = [0.0001, 0.001, 0.01, 0.1]\n",
        "\n",
        "for lr in learning_rates:\n",
        "  cnn = CNN().to(device)\n",
        "  Adam = torch.optim.Adam(cnn.parameters(), lr=lr, betas=(0.9, 0.999))\n",
        "  Adam_model = fit(cnn, Adam, train_loader)\n",
        "\n",
        "  loss_values = fit(cnn,Adam, train_loader)\n",
        "  all_loss_values.append(loss_values)\n",
        "\n",
        "  plt.plot(loss_values, label=f'Learning rate: {lr}')\n",
        "\n",
        "plt.xlabel('Epoch')\n",
        "plt.ylabel('Loss')\n",
        "plt.title('Training Loss for Different Learning Rates')\n",
        "plt.legend()\n",
        "plt.show()"
      ]
    },
    {
      "cell_type": "code",
      "execution_count": null,
      "metadata": {
        "id": "eTjrh_TpjNLu"
      },
      "outputs": [],
      "source": []
    }
  ],
  "metadata": {
    "accelerator": "GPU",
    "colab": {
      "gpuType": "T4",
      "provenance": []
    },
    "kernelspec": {
      "display_name": "Python 3",
      "name": "python3"
    },
    "language_info": {
      "codemirror_mode": {
        "name": "ipython",
        "version": 3
      },
      "file_extension": ".py",
      "mimetype": "text/x-python",
      "name": "python",
      "nbconvert_exporter": "python",
      "pygments_lexer": "ipython3",
      "version": "3.11.5"
    }
  },
  "nbformat": 4,
  "nbformat_minor": 0
}
