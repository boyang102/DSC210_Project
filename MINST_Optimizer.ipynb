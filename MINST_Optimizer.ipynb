{
  "cells": [
    {
      "cell_type": "code",
      "execution_count": 2,
      "metadata": {
        "id": "T1VrgP2-1C4M"
      },
      "outputs": [],
      "source": [
        "import torch\n",
        "import torch.nn as nn\n",
        "import torch.nn.functional as F\n",
        "import torch.utils.data\n",
        "from torch.autograd import Variable\n",
        "import numpy as np\n",
        "from matplotlib import pyplot as plt"
      ]
    },
    {
      "cell_type": "markdown",
      "source": [
        "Fix random seed"
      ],
      "metadata": {
        "id": "K6JU0oKjYqqH"
      }
    },
    {
      "cell_type": "code",
      "source": [
        "import random\n",
        "# Set the seed for Python's built-in random module\n",
        "random_seed = 42\n",
        "random.seed(random_seed)\n",
        "\n",
        "# Set the seed for NumPy\n",
        "np.random.seed(random_seed)\n",
        "\n",
        "# Set the seed for PyTorch\n",
        "torch.manual_seed(random_seed)\n",
        "torch.cuda.manual_seed_all(random_seed)\n",
        "torch.backends.cudnn.deterministic = True\n",
        "torch.backends.cudnn.benchmark = False"
      ],
      "metadata": {
        "id": "T4SCyh49Yp3v"
      },
      "execution_count": 9,
      "outputs": []
    },
    {
      "cell_type": "markdown",
      "metadata": {
        "id": "S2Ht0iPM1C4P"
      },
      "source": [
        "### Loading Dataset"
      ]
    },
    {
      "cell_type": "code",
      "execution_count": 10,
      "metadata": {
        "colab": {
          "base_uri": "https://localhost:8080/",
          "height": 502
        },
        "id": "8VTIGBJk1C4Q",
        "outputId": "dad3f291-9f58-45d1-c041-779a9aade935"
      },
      "outputs": [
        {
          "output_type": "stream",
          "name": "stdout",
          "text": [
            "Downloading data from https://storage.googleapis.com/tensorflow/tf-keras-datasets/mnist.npz\n",
            "11490434/11490434 [==============================] - 1s 0us/step\n",
            "Train: X=(60000, 28, 28), y=(60000,)\n",
            "Test: X=(10000, 28, 28), y=(10000,)\n"
          ]
        },
        {
          "output_type": "display_data",
          "data": {
            "text/plain": [
              "<Figure size 640x480 with 9 Axes>"
            ],
            "image/png": "[encoded data removed]"
          },
          "metadata": {}
        }
      ],
      "source": [
        "from tensorflow.keras.datasets import mnist\n",
        "\n",
        "(X_train, y_train), (X_test, y_test) = mnist.load_data()\n",
        "# print shape\n",
        "print('Train: X=%s, y=%s' % (X_train.shape, y_train.shape))\n",
        "print('Test: X=%s, y=%s' % (X_test.shape, y_test.shape))\n",
        "# plot first few images\n",
        "for i in range(9):\n",
        " plt.subplot(330 + 1 + i)\n",
        " plt.imshow(X_train[i], cmap=plt.get_cmap('gray'))\n",
        "\n",
        "plt.show()"
      ]
    },
    {
      "cell_type": "markdown",
      "metadata": {
        "id": "l4a4jtoT1C4R"
      },
      "source": [
        "### Preprocessing"
      ]
    },
    {
      "cell_type": "code",
      "execution_count": 11,
      "metadata": {
        "colab": {
          "base_uri": "https://localhost:8080/"
        },
        "id": "6yhCj6vf1C4S",
        "outputId": "f6d95558-aac2-4056-e409-3528dcccdcff"
      },
      "outputs": [
        {
          "output_type": "stream",
          "name": "stdout",
          "text": [
            "torch.Size([60000, 1, 28, 28])\n",
            "torch.Size([10000, 1, 28, 28])\n"
          ]
        }
      ],
      "source": [
        "BATCH_SIZE = 32\n",
        "\n",
        "torch_X_train = torch.from_numpy(X_train).type(torch.LongTensor)\n",
        "torch_y_train = torch.from_numpy(y_train).type(torch.LongTensor) # data type is long\n",
        "\n",
        "# create feature and targets tensor for test set.\n",
        "torch_X_test = torch.from_numpy(X_test).type(torch.LongTensor)\n",
        "torch_y_test = torch.from_numpy(y_test).type(torch.LongTensor) # data type is long\n",
        "\n",
        "torch_X_train = torch_X_train.view(-1, 1,28,28).float()\n",
        "torch_X_test = torch_X_test.view(-1,1,28,28).float()\n",
        "print(torch_X_train.shape)\n",
        "print(torch_X_test.shape)\n",
        "\n",
        "# Pytorch train and test sets\n",
        "train = torch.utils.data.TensorDataset(torch_X_train,torch_y_train)\n",
        "test = torch.utils.data.TensorDataset(torch_X_test,torch_y_test)\n",
        "\n",
        "# data loader\n",
        "train_loader = torch.utils.data.DataLoader(train, batch_size = BATCH_SIZE, shuffle = False)\n",
        "test_loader = torch.utils.data.DataLoader(test, batch_size = BATCH_SIZE, shuffle = False)\n"
      ]
    },
    {
      "cell_type": "markdown",
      "metadata": {
        "id": "41zAlR231C4S"
      },
      "source": [
        "### Create a CNN Model"
      ]
    },
    {
      "cell_type": "code",
      "execution_count": 12,
      "metadata": {
        "id": "lPrV8Y4s1C4T"
      },
      "outputs": [],
      "source": [
        "class CNN(nn.Module):\n",
        "    def __init__(self):\n",
        "        super(CNN, self).__init__()\n",
        "        self.conv1 = nn.Conv2d(1, 32, kernel_size=5)\n",
        "        self.conv2 = nn.Conv2d(32, 32, kernel_size=5)\n",
        "        self.conv3 = nn.Conv2d(32,64, kernel_size=5)\n",
        "        self.fc1 = nn.Linear(3*3*64, 256)\n",
        "        #10 numbers\n",
        "        self.fc2 = nn.Linear(256, 10)\n",
        "\n",
        "    def forward(self, x):\n",
        "        x = self.conv1(x) #1 -> 32\n",
        "        x = F.relu(x)\n",
        "\n",
        "        x = self.conv2(x) #32 -> 32\n",
        "        x = F.max_pool2d(x,2)\n",
        "        x = F.relu(x)\n",
        "        x = F.dropout(x, p=0.5, training=self.training)\n",
        "\n",
        "        x = self.conv3(x) #32 -> 64\n",
        "        x = F.max_pool2d(x,2)\n",
        "        x = F.relu(x)\n",
        "        x = F.dropout(x, p=0.5, training=self.training)\n",
        "\n",
        "        x = x.view(-1,3*3*64 )\n",
        "        x = F.relu(self.fc1(x))\n",
        "        x = F.dropout(x, training=self.training)\n",
        "\n",
        "        x = self.fc2(x)\n",
        "\n",
        "        return F.log_softmax(x, dim=1)\n"
      ]
    },
    {
      "cell_type": "code",
      "source": [
        "# Instantiate the model\n",
        "model = CNN()\n",
        "\n",
        "# Move the model to a specific device (e.g., GPU)\n",
        "device = torch.device(\"cuda\" if torch.cuda.is_available() else \"cpu\")\n",
        "model.to(device)\n",
        "\n",
        "# Display the model summary\n",
        "summary(model, (1, 28, 28))  # Assuming input size is (1, 28, 28), adjust accordingly\n"
      ],
      "metadata": {
        "id": "Am6E7w0sQf93",
        "outputId": "8022d207-809b-4373-9323-d369c9beedbb",
        "colab": {
          "base_uri": "https://localhost:8080/"
        }
      },
      "execution_count": 13,
      "outputs": [
        {
          "output_type": "stream",
          "name": "stdout",
          "text": [
            "----------------------------------------------------------------\n",
            "        Layer (type)               Output Shape         Param #\n",
            "================================================================\n",
            "            Conv2d-1           [-1, 32, 24, 24]             832\n",
            "            Conv2d-2           [-1, 32, 20, 20]          25,632\n",
            "            Conv2d-3             [-1, 64, 6, 6]          51,264\n",
            "            Linear-4                  [-1, 256]         147,712\n",
            "            Linear-5                   [-1, 10]           2,570\n",
            "================================================================\n",
            "Total params: 228,010\n",
            "Trainable params: 228,010\n",
            "Non-trainable params: 0\n",
            "----------------------------------------------------------------\n",
            "Input size (MB): 0.00\n",
            "Forward/backward pass size (MB): 0.26\n",
            "Params size (MB): 0.87\n",
            "Estimated Total Size (MB): 1.13\n",
            "----------------------------------------------------------------\n"
          ]
        }
      ]
    },
    {
      "cell_type": "markdown",
      "metadata": {
        "id": "I4EPM2hf1C4U"
      },
      "source": [
        "### Fitting model"
      ]
    },
    {
      "cell_type": "code",
      "execution_count": 14,
      "metadata": {
        "id": "Io5aFLpw1C4U"
      },
      "outputs": [],
      "source": [
        "def fit(model, optimizer, train_loader):\n",
        "    # Use GPU to train\n",
        "    device = torch.device(\"cuda\" if torch.cuda.is_available() else \"cpu\")\n",
        "    model = model.to(device)\n",
        "\n",
        "    criterion = nn.CrossEntropyLoss()\n",
        "    EPOCHS = 20\n",
        "    model.train()\n",
        "    loss_values = []\n",
        "\n",
        "    for epoch in range(EPOCHS):\n",
        "        correct = 0\n",
        "        running_loss = 0.0\n",
        "        total_samples = 0\n",
        "\n",
        "        for batch_idx, (X_batch, y_batch) in enumerate(train_loader):\n",
        "            X_batch, y_batch = X_batch.to(device), y_batch.to(device)\n",
        "\n",
        "            optimizer.zero_grad()\n",
        "            output = model(X_batch)\n",
        "\n",
        "            loss = criterion(output, y_batch)\n",
        "            loss.backward()\n",
        "            optimizer.step()\n",
        "\n",
        "            running_loss += loss.item()\n",
        "\n",
        "            # Calculate training accuracy\n",
        "            _, predicted = torch.max(output.data, 1)\n",
        "            total_samples += y_batch.size(0)\n",
        "            correct += (predicted == y_batch).sum().item()\n",
        "\n",
        "        accuracy = correct / total_samples\n",
        "        epoch_loss = running_loss / len(train_loader)\n",
        "        loss_values.append(epoch_loss)\n",
        "\n",
        "        print('[Epoch %d] Loss: %.3f, Accuracy: %.3f' % (epoch + 1, epoch_loss, accuracy))\n",
        "\n",
        "    return loss_values\n"
      ]
    },
    {
      "cell_type": "code",
      "execution_count": 15,
      "metadata": {
        "colab": {
          "base_uri": "https://localhost:8080/"
        },
        "id": "Nj3lLjLY1C4U",
        "outputId": "b27e77ec-8a80-4ef3-cd1a-db2ecde85673"
      },
      "outputs": [
        {
          "output_type": "stream",
          "name": "stdout",
          "text": [
            "[Epoch 1] Loss: 0.414, Accuracy: 0.873\n",
            "[Epoch 2] Loss: 0.150, Accuracy: 0.956\n",
            "[Epoch 3] Loss: 0.117, Accuracy: 0.966\n",
            "[Epoch 4] Loss: 0.109, Accuracy: 0.968\n",
            "[Epoch 5] Loss: 0.095, Accuracy: 0.973\n",
            "[Epoch 6] Loss: 0.091, Accuracy: 0.974\n",
            "[Epoch 7] Loss: 0.090, Accuracy: 0.975\n",
            "[Epoch 8] Loss: 0.086, Accuracy: 0.976\n",
            "[Epoch 9] Loss: 0.084, Accuracy: 0.976\n",
            "[Epoch 10] Loss: 0.082, Accuracy: 0.977\n",
            "[Epoch 11] Loss: 0.082, Accuracy: 0.977\n",
            "[Epoch 12] Loss: 0.079, Accuracy: 0.978\n",
            "[Epoch 13] Loss: 0.078, Accuracy: 0.977\n",
            "[Epoch 14] Loss: 0.076, Accuracy: 0.978\n",
            "[Epoch 15] Loss: 0.079, Accuracy: 0.978\n",
            "[Epoch 16] Loss: 0.073, Accuracy: 0.979\n",
            "[Epoch 17] Loss: 0.075, Accuracy: 0.979\n",
            "[Epoch 18] Loss: 0.076, Accuracy: 0.979\n",
            "[Epoch 19] Loss: 0.070, Accuracy: 0.981\n",
            "[Epoch 20] Loss: 0.071, Accuracy: 0.980\n"
          ]
        }
      ],
      "source": [
        "device = torch.device(\"cuda\" if torch.cuda.is_available() else \"cpu\")\n",
        "\n",
        "cnn_adam = CNN().to(device)\n",
        "Adam = torch.optim.Adam(cnn_adam.parameters(), lr=5e-4, betas=(0.9, 0.999))\n",
        "Adam_model = fit(cnn_adam, Adam, train_loader)"
      ]
    },
    {
      "cell_type": "markdown",
      "metadata": {
        "id": "hTWf4dn-f8Ey"
      },
      "source": [
        "Training SGD"
      ]
    },
    {
      "cell_type": "code",
      "execution_count": 16,
      "metadata": {
        "colab": {
          "base_uri": "https://localhost:8080/"
        },
        "id": "ERS3cCIwf7X5",
        "outputId": "8bd3df03-d80e-4fb9-e8fd-59a09bfb0aee"
      },
      "outputs": [
        {
          "output_type": "stream",
          "name": "stdout",
          "text": [
            "[Epoch 1] Loss: 1.747, Accuracy: 0.396\n",
            "[Epoch 2] Loss: 0.753, Accuracy: 0.761\n",
            "[Epoch 3] Loss: 0.465, Accuracy: 0.857\n",
            "[Epoch 4] Loss: 0.360, Accuracy: 0.889\n",
            "[Epoch 5] Loss: 0.312, Accuracy: 0.905\n",
            "[Epoch 6] Loss: 0.272, Accuracy: 0.917\n",
            "[Epoch 7] Loss: 0.246, Accuracy: 0.925\n",
            "[Epoch 8] Loss: 0.225, Accuracy: 0.931\n",
            "[Epoch 9] Loss: 0.208, Accuracy: 0.937\n",
            "[Epoch 10] Loss: 0.200, Accuracy: 0.939\n",
            "[Epoch 11] Loss: 0.192, Accuracy: 0.942\n",
            "[Epoch 12] Loss: 0.184, Accuracy: 0.944\n",
            "[Epoch 13] Loss: 0.174, Accuracy: 0.947\n",
            "[Epoch 14] Loss: 0.168, Accuracy: 0.950\n",
            "[Epoch 15] Loss: 0.162, Accuracy: 0.951\n",
            "[Epoch 16] Loss: 0.155, Accuracy: 0.954\n",
            "[Epoch 17] Loss: 0.151, Accuracy: 0.955\n",
            "[Epoch 18] Loss: 0.143, Accuracy: 0.957\n",
            "[Epoch 19] Loss: 0.138, Accuracy: 0.958\n",
            "[Epoch 20] Loss: 0.132, Accuracy: 0.960\n"
          ]
        }
      ],
      "source": [
        "cnn_sgd = CNN().to(device)\n",
        "SGD_optimizer = torch.optim.SGD(cnn_sgd.parameters(), lr=5e-4)\n",
        "SGD_model = fit(cnn_sgd, SGD_optimizer, train_loader)"
      ]
    },
    {
      "cell_type": "markdown",
      "source": [
        "Training a couple more popular Alg to compare"
      ],
      "metadata": {
        "id": "jKHpn0NGSxnT"
      }
    },
    {
      "cell_type": "markdown",
      "source": [
        "Adagrad"
      ],
      "metadata": {
        "id": "dbzBGDJqUH8o"
      }
    },
    {
      "cell_type": "code",
      "source": [
        "cnn_Adagrad = CNN().to(device)\n",
        "Adagrad = torch.optim.Adagrad(cnn_Adagrad.parameters(), lr=5e-4)\n",
        "Adagrad_model = fit(cnn_Adagrad, Adagrad, train_loader)"
      ],
      "metadata": {
        "id": "j4gSHqRiSw8t",
        "outputId": "4d300328-8279-4273-8e7b-1a4e4eda95b9",
        "colab": {
          "base_uri": "https://localhost:8080/"
        }
      },
      "execution_count": 17,
      "outputs": [
        {
          "output_type": "stream",
          "name": "stdout",
          "text": [
            "[Epoch 1] Loss: 1.342, Accuracy: 0.553\n",
            "[Epoch 2] Loss: 0.637, Accuracy: 0.793\n",
            "[Epoch 3] Loss: 0.490, Accuracy: 0.842\n",
            "[Epoch 4] Loss: 0.419, Accuracy: 0.868\n",
            "[Epoch 5] Loss: 0.371, Accuracy: 0.881\n",
            "[Epoch 6] Loss: 0.336, Accuracy: 0.896\n",
            "[Epoch 7] Loss: 0.314, Accuracy: 0.902\n",
            "[Epoch 8] Loss: 0.295, Accuracy: 0.908\n",
            "[Epoch 9] Loss: 0.278, Accuracy: 0.914\n",
            "[Epoch 10] Loss: 0.264, Accuracy: 0.918\n",
            "[Epoch 11] Loss: 0.255, Accuracy: 0.921\n",
            "[Epoch 12] Loss: 0.242, Accuracy: 0.925\n",
            "[Epoch 13] Loss: 0.236, Accuracy: 0.927\n",
            "[Epoch 14] Loss: 0.228, Accuracy: 0.929\n",
            "[Epoch 15] Loss: 0.223, Accuracy: 0.931\n",
            "[Epoch 16] Loss: 0.215, Accuracy: 0.933\n",
            "[Epoch 17] Loss: 0.212, Accuracy: 0.935\n",
            "[Epoch 18] Loss: 0.205, Accuracy: 0.937\n",
            "[Epoch 19] Loss: 0.204, Accuracy: 0.938\n",
            "[Epoch 20] Loss: 0.193, Accuracy: 0.940\n"
          ]
        }
      ]
    },
    {
      "cell_type": "markdown",
      "source": [
        "RMSprop"
      ],
      "metadata": {
        "id": "P7VYtWJ3UKzq"
      }
    },
    {
      "cell_type": "code",
      "source": [
        "cnn_RMSprop = CNN().to(device)\n",
        "RMSprop = torch.optim.RMSprop(cnn_RMSprop.parameters(), lr=5e-4)\n",
        "RMSprop_model = fit(cnn_RMSprop, RMSprop, train_loader)"
      ],
      "metadata": {
        "id": "ElLmS0TaSxEb",
        "outputId": "b1c08c14-aec3-4e6d-9976-988a468e2a17",
        "colab": {
          "base_uri": "https://localhost:8080/"
        }
      },
      "execution_count": 18,
      "outputs": [
        {
          "output_type": "stream",
          "name": "stdout",
          "text": [
            "[Epoch 1] Loss: 0.387, Accuracy: 0.888\n",
            "[Epoch 2] Loss: 0.141, Accuracy: 0.959\n",
            "[Epoch 3] Loss: 0.117, Accuracy: 0.967\n",
            "[Epoch 4] Loss: 0.104, Accuracy: 0.971\n",
            "[Epoch 5] Loss: 0.096, Accuracy: 0.974\n",
            "[Epoch 6] Loss: 0.094, Accuracy: 0.974\n",
            "[Epoch 7] Loss: 0.093, Accuracy: 0.975\n",
            "[Epoch 8] Loss: 0.088, Accuracy: 0.976\n",
            "[Epoch 9] Loss: 0.086, Accuracy: 0.976\n",
            "[Epoch 10] Loss: 0.091, Accuracy: 0.976\n",
            "[Epoch 11] Loss: 0.090, Accuracy: 0.976\n",
            "[Epoch 12] Loss: 0.086, Accuracy: 0.977\n",
            "[Epoch 13] Loss: 0.088, Accuracy: 0.977\n",
            "[Epoch 14] Loss: 0.090, Accuracy: 0.976\n",
            "[Epoch 15] Loss: 0.090, Accuracy: 0.976\n",
            "[Epoch 16] Loss: 0.092, Accuracy: 0.977\n",
            "[Epoch 17] Loss: 0.092, Accuracy: 0.977\n",
            "[Epoch 18] Loss: 0.092, Accuracy: 0.977\n",
            "[Epoch 19] Loss: 0.091, Accuracy: 0.977\n",
            "[Epoch 20] Loss: 0.092, Accuracy: 0.977\n"
          ]
        }
      ]
    },
    {
      "cell_type": "markdown",
      "source": [
        "L-BFGS (Approximate Hessian)  \\\n",
        "will not converge as expect (BFGS does not scale well on large dataset)"
      ],
      "metadata": {
        "id": "AMIx_rnZVMPH"
      }
    },
    {
      "cell_type": "code",
      "source": [
        "cnn_LBFGS = CNN().to(device)\n",
        "LBFGS = torch.optim.LBFGS(cnn_LBFGS.parameters(), history_size=20, max_iter=4, lr=0.01)\n",
        "\n",
        "criterion = nn.CrossEntropyLoss()\n",
        "epochs = 30\n",
        "LBFGS_loss = []\n",
        "\n",
        "for epoch in range(epochs):\n",
        "    running_loss = 0.0\n",
        "\n",
        "    for batch_idx, (X_batch, y_batch) in enumerate(train_loader):\n",
        "      X_batch, y_batch = X_batch.to(device), y_batch.to(device)\n",
        "\n",
        "      def closure():\n",
        "        # Zero gradients\n",
        "        LBFGS.zero_grad()\n",
        "        y_pred = cnn_LBFGS(X_batch)\n",
        "        loss = criterion(y_pred, y_batch)\n",
        "        loss.backward()\n",
        "        return loss\n",
        "\n",
        "      LBFGS.step(closure)\n",
        "      loss = closure()\n",
        "      running_loss += loss.item()\n",
        "\n",
        "    epoch_loss = running_loss / len(train_loader)\n",
        "    LBFGS_loss.append(epoch_loss)\n",
        "\n",
        "    print('[Epoch %d] Loss: %.3f' % (epoch + 1, epoch_loss))"
      ],
      "metadata": {
        "id": "hyUKS2mkSxHC"
      },
      "execution_count": null,
      "outputs": []
    },
    {
      "cell_type": "markdown",
      "metadata": {
        "id": "RWJTwsi4hprD"
      },
      "source": [
        "Plot Training Loss"
      ]
    },
    {
      "cell_type": "code",
      "execution_count": 19,
      "metadata": {
        "colab": {
          "base_uri": "https://localhost:8080/",
          "height": 472
        },
        "id": "niVdUHhp1C4U",
        "outputId": "df7b0e97-5cb4-4292-d63f-15fcab230a71"
      },
      "outputs": [
        {
          "output_type": "display_data",
          "data": {
            "text/plain": [
              "<Figure size 640x480 with 1 Axes>"
            ],
            "image/png": "[encoded data removed]"
          },
          "metadata": {}
        }
      ],
      "source": [
        "plt.plot(Adam_model, label='Adam')\n",
        "plt.plot(SGD_model,label='SGD')\n",
        "plt.plot(Adagrad_model,label='Adagrad')\n",
        "plt.plot(RMSprop_model,label='RMSprop')\n",
        "#plt.plot(LBFGS_loss,label='L-BFGS')\n",
        "\n",
        "plt.xlabel('Epoch')\n",
        "plt.ylabel('Training Loss')\n",
        "plt.title('Training Loss over Epoches')\n",
        "plt.legend()\n",
        "plt.show()"
      ]
    },
    {
      "cell_type": "code",
      "execution_count": 20,
      "metadata": {
        "id": "YDpEh0QP6wXx"
      },
      "outputs": [],
      "source": [
        "def evaluate(model):\n",
        "  model.eval()\n",
        "  correct = 0\n",
        "\n",
        "  with torch.no_grad():\n",
        "    for test_imgs, test_labels in test_loader:\n",
        "        test_imgs, test_labels = test_imgs.to(device), test_labels.to(device)\n",
        "        test_imgs = Variable(test_imgs).float()\n",
        "        output = model(test_imgs)\n",
        "        #calculate accuracy\n",
        "        predicted = torch.max(output,1)[1]\n",
        "        correct += (predicted == test_labels).sum()\n",
        "\n",
        "    accuracy = correct / (len(test_loader.dataset))\n",
        "    print(\"Accuracy: {:.3f}%\".format(accuracy * 100))\n"
      ]
    },
    {
      "cell_type": "code",
      "execution_count": 21,
      "metadata": {
        "colab": {
          "base_uri": "https://localhost:8080/"
        },
        "id": "Iw10_BWs6x4A",
        "outputId": "cfb8bad5-090e-4c97-f898-405c00a2cc2a"
      },
      "outputs": [
        {
          "output_type": "stream",
          "name": "stdout",
          "text": [
            "Accuracy: 99.320%\n"
          ]
        }
      ],
      "source": [
        "evaluate(cnn_adam)\n"
      ]
    },
    {
      "cell_type": "code",
      "execution_count": 22,
      "metadata": {
        "colab": {
          "base_uri": "https://localhost:8080/"
        },
        "id": "cCkylVI7hZx1",
        "outputId": "1abb5910-6dc5-4a0d-84ab-17bbd33bdefd"
      },
      "outputs": [
        {
          "output_type": "stream",
          "name": "stdout",
          "text": [
            "Accuracy: 98.420%\n"
          ]
        }
      ],
      "source": [
        "evaluate(cnn_sgd)"
      ]
    },
    {
      "cell_type": "code",
      "execution_count": 23,
      "metadata": {
        "id": "eTjrh_TpjNLu",
        "outputId": "10dbacc9-440a-4faa-b813-ad8e29249bde",
        "colab": {
          "base_uri": "https://localhost:8080/"
        }
      },
      "outputs": [
        {
          "output_type": "stream",
          "name": "stdout",
          "text": [
            "Accuracy: 99.040%\n"
          ]
        }
      ],
      "source": [
        "evaluate(cnn_RMSprop)"
      ]
    },
    {
      "cell_type": "code",
      "source": [
        "evaluate(cnn_Adagrad)"
      ],
      "metadata": {
        "id": "ICOQznZRf1oG",
        "outputId": "d7b66005-2e54-4161-ee82-109ec47f1553",
        "colab": {
          "base_uri": "https://localhost:8080/"
        }
      },
      "execution_count": 24,
      "outputs": [
        {
          "output_type": "stream",
          "name": "stdout",
          "text": [
            "Accuracy: 97.810%\n"
          ]
        }
      ]
    }
  ],
  "metadata": {
    "accelerator": "GPU",
    "colab": {
      "gpuType": "T4",
      "provenance": []
    },
    "kernelspec": {
      "display_name": "Python 3",
      "name": "python3"
    },
    "language_info": {
      "codemirror_mode": {
        "name": "ipython",
        "version": 3
      },
      "file_extension": ".py",
      "mimetype": "text/x-python",
      "name": "python",
      "nbconvert_exporter": "python",
      "pygments_lexer": "ipython3",
      "version": "3.11.5"
    }
  },
  "nbformat": 4,
  "nbformat_minor": 0
}